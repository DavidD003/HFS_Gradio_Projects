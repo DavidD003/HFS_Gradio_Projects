{
 "cells": [
  {
   "cell_type": "code",
   "execution_count": 108,
   "metadata": {},
   "outputs": [],
   "source": [
    "import SchedBuilderUtyModule as tls\n",
    "import SchedBuilderClasses as cls\n",
    "import openpyxl as pyxl\n",
    "import pandas as pd\n",
    "import numpy as np\n",
    "from copy import deepcopy"
   ]
  },
  {
   "cell_type": "code",
   "execution_count": 120,
   "metadata": {},
   "outputs": [
    {
     "data": {
      "text/plain": [
       "<module 'SchedBuilderClasses' from 'c:\\\\Cloned_Repositories\\\\HFS_Gradio_Projects\\\\Wknd_Sched_Builder\\\\SchedBuilderClasses.py'>"
      ]
     },
     "execution_count": 120,
     "metadata": {},
     "output_type": "execute_result"
    }
   ],
   "source": [
    "from importlib import reload\n",
    "reload(tls)\n",
    "reload(cls)"
   ]
  },
  {
   "cell_type": "code",
   "execution_count": 68,
   "metadata": {},
   "outputs": [],
   "source": [
    "Acrew='Blue'\n",
    "wkHrs=40\n",
    "mySched=tls.preProcessData(Acrew,wkHrs,'ValuesFTRefusal.xlsm','ValuesTempRefusal.xlsm','AssignmentList.xlsx','Long Weekend Polling.xlsx')"
   ]
  },
  {
   "cell_type": "code",
   "execution_count": 129,
   "metadata": {},
   "outputs": [],
   "source": [
    "Acrew='Blue'\n",
    "wkHrs=40 #if 5 day week, 40, if 4 day week should be 32\n",
    "mySched=tls.preProcessData(Acrew,wkHrs,'SampFT.xlsm','SampTemp.xlsm','AssignmentList.xlsx','SampPoll.xlsx')"
   ]
  },
  {
   "cell_type": "code",
   "execution_count": 130,
   "metadata": {},
   "outputs": [],
   "source": [
    "#Failing on fn input... Need to go to assignment file, make only 1 slot required(aside from DNS)\n",
    "mySched.fillOutSched()"
   ]
  },
  {
   "cell_type": "code",
   "execution_count": 131,
   "metadata": {},
   "outputs": [],
   "source": [
    "mySched.printToExcel()"
   ]
  },
  {
   "cell_type": "code",
   "execution_count": 132,
   "metadata": {},
   "outputs": [
    {
     "data": {
      "text/plain": [
       "['Initial Forcing phase... Forcing to slots with no eligible volunteers',\n",
       " 'Voluntary Assignment Phase... Assigning slots in sequence of most to least constrained by number of eligible volunteers',\n",
       " 'Looking to voluntarily assign to Filler Sat 11p(Fri)-3a(Sat)',\n",
       " '   Fail to assign K. ADCOCK to Filler Sat 11p(Fri)-3a(Sat) || Insufficient gap time between this shift and another',\n",
       " 'Looking to voluntarily assign to Filler Sat 3a-7a',\n",
       " '   Fail to assign K. ADCOCK to Filler Sat 3a-7a || Insufficient gap time between this shift and another',\n",
       " 'Final Forcing Phase... Forcing to slots with no more eligible volunteers after having assigned voluntary OT',\n",
       " 'Forcing Phase 2 on Filler Sat 11p(Fri)-3a(Sat)',\n",
       " '   Fail to assign W. ADDLEY to Filler Sat 11p(Fri)-3a(Sat) || Not trained, or disallowd in Assignment List',\n",
       " '   Fail to assign K. ADCOCK to Filler Sat 11p(Fri)-3a(Sat) || Insufficient gap time between this shift and another',\n",
       " 'Forcing Phase 2 on Filler Sat 3a-7a',\n",
       " '   Fail to assign W. ADDLEY to Filler Sat 3a-7a || Not trained, or disallowd in Assignment List',\n",
       " '   Fail to assign K. ADCOCK to Filler Sat 3a-7a || Insufficient gap time between this shift and another']"
      ]
     },
     "execution_count": 132,
     "metadata": {},
     "output_type": "execute_result"
    }
   ],
   "source": [
    "mySched.assnLog"
   ]
  },
  {
   "cell_type": "code",
   "execution_count": 14,
   "metadata": {},
   "outputs": [
    {
     "data": {
      "text/plain": [
       "'F'"
      ]
     },
     "execution_count": 14,
     "metadata": {},
     "output_type": "execute_result"
    }
   ],
   "source": [
    "mySched.slots['9_Labeler'].assnType"
   ]
  },
  {
   "cell_type": "code",
   "execution_count": 24,
   "metadata": {},
   "outputs": [
    {
     "data": {
      "text/plain": [
       "[[16.0, 2.0], [12.0, 0.0]]"
      ]
     },
     "execution_count": 24,
     "metadata": {},
     "output_type": "execute_result"
    }
   ],
   "source": [
    "[ [mySched.ee[x].wkndHrs,mySched.ee[x].wkdyHrs] for x in mySched.ee]"
   ]
  },
  {
   "cell_type": "code",
   "execution_count": 974,
   "metadata": {},
   "outputs": [
    {
     "data": {
      "text/plain": [
       "False"
      ]
     },
     "execution_count": 974,
     "metadata": {},
     "output_type": "execute_result"
    }
   ],
   "source": [
    "mySched.ee[7096688].slOK(mySched,mySched.slots['8_Labeler'],poll=tls.viewTBL('allPollData',filterOn=[('eeid',7096688)])[0],tp='V')"
   ]
  },
  {
   "cell_type": "code",
   "execution_count": 977,
   "metadata": {},
   "outputs": [
    {
     "data": {
      "text/plain": [
       "True"
      ]
     },
     "execution_count": 977,
     "metadata": {},
     "output_type": "execute_result"
    }
   ],
   "source": [
    "mySched.ee[7096688].gapOK(mySched.slots['8_Labeler'],mySched,tp='V')"
   ]
  },
  {
   "cell_type": "code",
   "execution_count": 35,
   "metadata": {},
   "outputs": [
    {
     "data": {
      "text/plain": [
       "['Initial Forcing phase... Forcing to slots with no eligible volunteers',\n",
       " 'Looking to Force to Labeler Sat 7a-11a',\n",
       " '   Fail to assign W. ADDLEY to Labeler Sat 7a-11a || Not trained, or disallowd in Assignment List',\n",
       " '   FORCED Assignment: K. ADCOCK to Labeler 7a-11a (Sat)',\n",
       " 'Looking to Force to Labeler Sat 11a-3p',\n",
       " '   Fail to assign W. ADDLEY to Labeler Sat 11a-3p || Not trained, or disallowd in Assignment List',\n",
       " '   FORCED Assignment: K. ADCOCK to Labeler 11a-3p (Sat)',\n",
       " 'Voluntary Assignment Phase... Assigning slots in sequence of most to least constrained by number of eligible volunteers',\n",
       " 'Looking to voluntarily assign to Labeler Sat 3a-7a',\n",
       " '   Voluntary Assignment: K. ADCOCK to Labeler 3a-7a (Sat)',\n",
       " 'Looking to voluntarily assign to Labeler Sat 3p-7p',\n",
       " '   Fail to assign K. ADCOCK to Labeler Sat 3p-7p || Total consecutive hours would exceed 12',\n",
       " 'Looking to voluntarily assign to Labeler Sat 7p-11p',\n",
       " '   Fail to assign K. ADCOCK to Labeler Sat 7p-11p || Insufficient gap time between this shift and another',\n",
       " 'Looking to voluntarily assign to Labeler Sun 11p(Sat)-3a(Sun)',\n",
       " '   Voluntary Assignment: K. ADCOCK to Labeler 11p(Sat)-3a(Sun) (Sun)',\n",
       " 'Looking to voluntarily assign to Labeler Sun 3a-7a',\n",
       " '   Voluntary Assignment: K. ADCOCK to Labeler 3a-7a (Sun)',\n",
       " 'Final Forcing Phase... Forcing to slots with no more eligible volunteers after having assigned voluntary OT',\n",
       " 'Forcing Phase 2 on Labeler Sat 3p-7p',\n",
       " '   Fail to assign W. ADDLEY to Labeler Sat 3p-7p || Not trained, or disallowd in Assignment List',\n",
       " '   Fail to assign K. ADCOCK to Labeler Sat 3p-7p || Total hours in week exceeds 60',\n",
       " 'Forcing Phase 2 on Labeler Sat 7p-11p',\n",
       " '   Fail to assign W. ADDLEY to Labeler Sat 7p-11p || Not trained, or disallowd in Assignment List',\n",
       " '   Fail to assign K. ADCOCK to Labeler Sat 7p-11p || Total hours in week exceeds 60']"
      ]
     },
     "execution_count": 35,
     "metadata": {},
     "output_type": "execute_result"
    }
   ],
   "source": [
    "mySched.assnLog"
   ]
  },
  {
   "cell_type": "code",
   "execution_count": null,
   "metadata": {},
   "outputs": [],
   "source": [
    "mySched.slots['11_Labeler'].eligVol"
   ]
  },
  {
   "cell_type": "code",
   "execution_count": 968,
   "metadata": {},
   "outputs": [
    {
     "data": {
      "text/plain": [
       "['N', 'N', 'N', 'N', 'N', 'N', 'N']"
      ]
     },
     "execution_count": 968,
     "metadata": {},
     "output_type": "execute_result"
    }
   ],
   "source": [
    " [    mySched.slots[k].assnType     for k in   mySched.slots]"
   ]
  },
  {
   "cell_type": "code",
   "execution_count": 969,
   "metadata": {},
   "outputs": [
    {
     "data": {
      "text/plain": [
       "[7096688]"
      ]
     },
     "execution_count": 969,
     "metadata": {},
     "output_type": "execute_result"
    }
   ],
   "source": [
    "mySched.slots['8_Labeler'].eligVol"
   ]
  }
 ],
 "metadata": {
  "kernelspec": {
   "display_name": "Python 3.9.12 ('base')",
   "language": "python",
   "name": "python3"
  },
  "language_info": {
   "codemirror_mode": {
    "name": "ipython",
    "version": 3
   },
   "file_extension": ".py",
   "mimetype": "text/x-python",
   "name": "python",
   "nbconvert_exporter": "python",
   "pygments_lexer": "ipython3",
   "version": "3.9.12"
  },
  "orig_nbformat": 4,
  "vscode": {
   "interpreter": {
    "hash": "ad2bdc8ecc057115af97d19610ffacc2b4e99fae6737bb82f5d7fb13d2f2c186"
   }
  }
 },
 "nbformat": 4,
 "nbformat_minor": 2
}
