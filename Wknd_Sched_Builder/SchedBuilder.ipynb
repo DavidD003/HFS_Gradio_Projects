{
 "cells": [
  {
   "cell_type": "code",
   "execution_count": 272,
   "metadata": {},
   "outputs": [],
   "source": [
    "import SchedBuilderUtyModule as tls\n",
    "import SchedBuilderClasses as cls\n",
    "import openpyxl as pyxl\n",
    "import pandas as pd\n",
    "import numpy as np"
   ]
  },
  {
   "cell_type": "code",
   "execution_count": 275,
   "metadata": {},
   "outputs": [
    {
     "data": {
      "text/plain": [
       "<module 'SchedBuilderClasses' from 'c:\\\\Cloned_Repositories\\\\Tests\\\\SchedBuilderClasses.py'>"
      ]
     },
     "execution_count": 275,
     "metadata": {},
     "output_type": "execute_result"
    }
   ],
   "source": [
    "from importlib import reload\n",
    "reload(tls)\n",
    "reload(cls)"
   ]
  },
  {
   "cell_type": "code",
   "execution_count": 276,
   "metadata": {},
   "outputs": [],
   "source": [
    "eeDict,openSlots, AssignmentsTbl,slot_Legend,pollDict,senList=tls.preProcessData('ValuesFTRefusal.xlsm','ValuesTempRefusal.xlsm','AssignmentList.xlsx','Long Weekend Polling.xlsx')"
   ]
  },
  {
   "cell_type": "code",
   "execution_count": 277,
   "metadata": {},
   "outputs": [],
   "source": [
    "tls.generateMasterPollTbl(pollDict)"
   ]
  },
  {
   "cell_type": "code",
   "execution_count": 287,
   "metadata": {},
   "outputs": [
    {
     "data": {
      "text/plain": [
       "array([[7096688, 'ADCOCK', 'Kory', 1, '0', '0', '0', '0', '0', '0', '0',\n",
       "        '0', '1', '1', '1', '1', '1', '1', '0', '0', '1', '1', '0', '0',\n",
       "        '0', '0', '0', '0', None],\n",
       "       [7096314, 'ANDERSON', 'Lisa A', 2, '0', '0', '0', '0', '0', '0',\n",
       "        '0', '0', '1', '1', '0', '0', '0', '0', '1', '1', '1', '1', '0',\n",
       "        '0', '0', '0', '0', '0', None],\n",
       "       [7093513, 'BAMFORD', 'Derek', 3, '0', '0', '0', '0', '0', '0',\n",
       "        '0', '0', '1', '1', '0', '0', '0', '0', '1', '1', '1', '1', '0',\n",
       "        '0', '0', '0', '0', '0', None],\n",
       "       [7092642, 'BULLOCK', 'Robert', 4, '0', '0', '0', '0', '0', '0',\n",
       "        '1', '1', '0', '0', '1', '1', '1', '1', '0', '0', '0', '0', '0',\n",
       "        '0', '0', '0', '0', '0', None],\n",
       "       [7096839, 'CLARKE', 'James', 5, '0', '0', '0', '0', '0', '0', '0',\n",
       "        '0', '0', '0', '0', '0', '0', '0', '0', '0', '0', '0', '0', '0',\n",
       "        '0', '0', '0', '0', None],\n",
       "       [7401072, 'GARLICK', 'Mackenzi', 6, '0', '0', '0', '0', '0', '0',\n",
       "        '0', '0', '0', '0', '0', '0', '0', '0', '0', '0', '0', '0', '0',\n",
       "        '0', '0', '0', '0', '0', None],\n",
       "       [7077343, 'GHELLER', 'Mike', 7, '0', '0', '0', '0', '0', '0', '0',\n",
       "        '0', '0', '0', '0', '0', '0', '0', '0', '0', '0', '0', '0', '0',\n",
       "        '0', '0', '0', '0', None],\n",
       "       [7029156, 'GREIG', 'David', 8, '0', '0', '0', '0', '0', '0', '0',\n",
       "        '0', '0', '0', '0', '0', '0', '0', '0', '0', '0', '0', '0', '0',\n",
       "        '0', '0', '0', '0', None],\n",
       "       [7401131, 'LAZAR', 'Ninip', 9, '0', '0', '0', '0', '0', '0', '0',\n",
       "        '0', '0', '0', '0', '0', '0', '0', '0', '0', '0', '0', '0', '0',\n",
       "        '0', '0', '0', '0', None],\n",
       "       [7051920, 'MAZZA', 'Tony', 10, '0', '0', '0', '0', '0', '0', '0',\n",
       "        '0', '0', '0', '0', '0', '0', '0', '0', '0', '0', '0', '0', '0',\n",
       "        '0', '0', '0', '0', None],\n",
       "       [7092738, 'MOLINARI', 'Ossie', 11, '0', '0', '0', '0', '0', '0',\n",
       "        '0', '0', '0', '0', '0', '0', '0', '0', '0', '0', '0', '0', '0',\n",
       "        '0', '0', '0', '0', '0', None],\n",
       "       [7045037, 'SMILIE', 'Roy', 12, '0', '0', '0', '0', '0', '0', '0',\n",
       "        '0', '0', '0', '0', '0', '0', '0', '0', '0', '0', '0', '0', '0',\n",
       "        '0', '0', '0', '0', None],\n",
       "       [7401055, 'TARRANT', 'Justin', 13, '0', '0', '0', '0', '0', '0',\n",
       "        '0', '0', '0', '0', '0', '0', '0', '0', '0', '0', '0', '0', '0',\n",
       "        '0', '0', '0', '0', '0', None],\n",
       "       [None, None, None, None, '0', '0', '0', '0', '0', '0', '0', '0',\n",
       "        '0', '0', '0', '0', '0', '0', '0', '0', '0', '0', '0', '0', '0',\n",
       "        '0', '0', '0', None],\n",
       "       [None, None, None, None, '0', '0', '0', '0', '0', '0', '0', '0',\n",
       "        '0', '0', '0', '0', '0', '0', '0', '0', '0', '0', '0', '0', '0',\n",
       "        '0', '0', '0', None],\n",
       "       [None, None, None, None, '0', '0', '0', '0', '0', '0', '0', '0',\n",
       "        '0', '0', '0', '0', '0', '0', '0', '0', '0', '0', '0', '0', '0',\n",
       "        '0', '0', '0', None],\n",
       "       [None, None, None, None, '0', '0', '0', '0', '0', '0', '0', '0',\n",
       "        '0', '0', '0', '0', '0', '0', '0', '0', '0', '0', '0', '0', '0',\n",
       "        '0', '0', '0', None],\n",
       "       [None, None, None, None, '0', '0', '0', '0', '0', '0', '0', '0',\n",
       "        '0', '0', '0', '0', '0', '0', '0', '0', '0', '0', '0', '0', '0',\n",
       "        '0', '0', '0', None],\n",
       "       [None, None, None, None, '0', '0', '0', '0', '0', '0', '0', '0',\n",
       "        '0', '0', '0', '0', '0', '0', '0', '0', '0', '0', '0', '0', '0',\n",
       "        '0', '0', '0', None],\n",
       "       [None, None, None, None, '0', '0', '0', '0', '0', '0', '0', '0',\n",
       "        '0', '0', '0', '0', '0', '0', '0', '0', '0', '0', '0', '0', '0',\n",
       "        '0', '0', '0', None],\n",
       "       [None, None, None, None, '0', '0', '0', '0', '0', '0', '0', '0',\n",
       "        '0', '0', '0', '0', '0', '0', '0', '0', '0', '0', '0', '0', '0',\n",
       "        '0', '0', '0', None],\n",
       "       [None, None, None, None, '0', '0', '0', '0', '0', '0', '0', '0',\n",
       "        '0', '0', '0', '0', '0', '0', '0', '0', '0', '0', '0', '0', '0',\n",
       "        '0', '0', '0', None]], dtype=object)"
      ]
     },
     "execution_count": 287,
     "metadata": {},
     "output_type": "execute_result"
    }
   ],
   "source": [
    "#NOTE TO SELF. LEFT OFF WITH SUCCESSFULLY CREATING SQL TABLE TO HAVE ALL POLLING IN 1 PLACE\n",
    "#IDEA IS WHILE GENERATING SLOT OBJECTS, QUERY LIST OF EEIDS WILLING TO WORK THE SLOT, THEN FILTER OUT THE UNTRAINED TO GENERATE # AVAILABLE PEOPLE FOR EACH SLOT\n",
    "#TO DO THIS, NEED TO MAKE THIS VIEW FUNCTION WORK. NOT WORKING FOR SOME REASON. SUGGEST USING TRUE/FALSE INSTEAD OF 1/0 BUT MIGHT MAKE FUNNY BSINESS TRANSFERRING T/F TO SQL\n",
    "\n",
    "tls.viewTBL('allPollData')#,filterOn=[('slot_1','1')])"
   ]
  },
  {
   "cell_type": "code",
   "execution_count": null,
   "metadata": {},
   "outputs": [],
   "source": []
  }
 ],
 "metadata": {
  "kernelspec": {
   "display_name": "Python 3.9.12 ('base')",
   "language": "python",
   "name": "python3"
  },
  "language_info": {
   "codemirror_mode": {
    "name": "ipython",
    "version": 3
   },
   "file_extension": ".py",
   "mimetype": "text/x-python",
   "name": "python",
   "nbconvert_exporter": "python",
   "pygments_lexer": "ipython3",
   "version": "3.9.12"
  },
  "orig_nbformat": 4,
  "vscode": {
   "interpreter": {
    "hash": "ad2bdc8ecc057115af97d19610ffacc2b4e99fae6737bb82f5d7fb13d2f2c186"
   }
  }
 },
 "nbformat": 4,
 "nbformat_minor": 2
}
