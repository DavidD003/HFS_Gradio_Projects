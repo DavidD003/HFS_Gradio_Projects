{
 "cells": [
  {
   "cell_type": "code",
   "execution_count": 682,
   "metadata": {},
   "outputs": [],
   "source": [
    "import SchedBuilderUtyModule as tls\n",
    "import SchedBuilderClasses as cls\n",
    "import openpyxl as pyxl\n",
    "import pandas as pd\n",
    "import numpy as np\n",
    "from copy import deepcopy"
   ]
  },
  {
   "cell_type": "code",
   "execution_count": 695,
   "metadata": {},
   "outputs": [
    {
     "data": {
      "text/plain": [
       "<module 'SchedBuilderClasses' from 'c:\\\\Cloned_Repositories\\\\HFS_Gradio_Projects\\\\Wknd_Sched_Builder\\\\SchedBuilderClasses.py'>"
      ]
     },
     "execution_count": 695,
     "metadata": {},
     "output_type": "execute_result"
    }
   ],
   "source": [
    "from importlib import reload\n",
    "reload(tls)\n",
    "reload(cls)"
   ]
  },
  {
   "cell_type": "code",
   "execution_count": 406,
   "metadata": {},
   "outputs": [],
   "source": [
    "Acrew='Blue'\n",
    "wkHrs=40\n",
    "mySched=tls.preProcessData(Acrew,wkHrs,'ValuesFTRefusal.xlsm','ValuesTempRefusal.xlsm','AssignmentList.xlsx','Long Weekend Polling.xlsx')"
   ]
  },
  {
   "cell_type": "code",
   "execution_count": 696,
   "metadata": {},
   "outputs": [],
   "source": [
    "Acrew='Blue'\n",
    "wkHrs=40 #if 5 day week, 40, if 4 day week should be 32\n",
    "mySched=tls.preProcessData(Acrew,wkHrs,'SampFT.xlsm','SampTemp.xlsm','AssignmentList.xlsx','SampPoll.xlsx')"
   ]
  },
  {
   "cell_type": "code",
   "execution_count": 697,
   "metadata": {},
   "outputs": [],
   "source": [
    "mySched.evalAssnList()"
   ]
  },
  {
   "cell_type": "code",
   "execution_count": 698,
   "metadata": {},
   "outputs": [],
   "source": [
    "#Failing on fn input... Need to go to assignment file, make only 1 slot required(aside from DNS)\n",
    "mySched.fillOutSched()"
   ]
  },
  {
   "cell_type": "code",
   "execution_count": 699,
   "metadata": {},
   "outputs": [],
   "source": [
    "mySched.printToExcel()"
   ]
  },
  {
   "cell_type": "code",
   "execution_count": 679,
   "metadata": {},
   "outputs": [
    {
     "data": {
      "text/plain": [
       "['Initial Forcing phase... Forcing to slots with no eligible volunteers',\n",
       " 'Looking to Force to Labeler Sat 7a-11a',\n",
       " '   Fail to assign W. ADDLEY to Labeler Sat 7a-11a || Not trained, or disallowd in Assignment List',\n",
       " '   FORCED Assignment: K. ADCOCK to Labeler 7a-11a (Sat)',\n",
       " 'Looking to Force to Labeler Sat 11a-3p',\n",
       " '   Fail to assign W. ADDLEY to Labeler Sat 11a-3p || Not trained, or disallowd in Assignment List',\n",
       " '   FORCED Assignment: K. ADCOCK to Labeler 11a-3p (Sat)',\n",
       " 'Voluntary Assignment Phase... Assigning slots in sequence of most to least constrained by number of eligible volunteers',\n",
       " 'Looking to voluntarily assign to Labeler Sat 3a-7a',\n",
       " '   Voluntary Assignment: K. ADCOCK to Labeler 3a-7a (Sat)',\n",
       " 'Looking to voluntarily assign to Labeler Sat 3p-7p',\n",
       " '   Fail to assign K. ADCOCK to Labeler Sat 3p-7p || Total consecutive hours would exceed 12',\n",
       " 'Looking to voluntarily assign to Labeler Sat 7p-11p',\n",
       " '   Fail to assign K. ADCOCK to Labeler Sat 7p-11p || Insufficient gap time between this shift and another',\n",
       " 'Looking to voluntarily assign to Labeler Sun 11p(Sat)-3a(Sun)',\n",
       " '   Voluntary Assignment: K. ADCOCK to Labeler 11p(Sat)-3a(Sun) (Sun)',\n",
       " 'Looking to voluntarily assign to Labeler Sun 3a-7a',\n",
       " '   Voluntary Assignment: K. ADCOCK to Labeler 3a-7a (Sun)',\n",
       " 'Final Forcing Phase... Forcing to slots with no more eligible volunteers after having assigned voluntary OT',\n",
       " 'Forcing Phase 2 on Labeler Sat 3p-7p',\n",
       " '   Fail to assign W. ADDLEY to Labeler Sat 3p-7p || Not trained, or disallowd in Assignment List',\n",
       " '   Fail to assign K. ADCOCK to Labeler Sat 3p-7p || Total hours in week exceeds 60',\n",
       " 'Forcing Phase 2 on Labeler Sat 7p-11p',\n",
       " '   Fail to assign W. ADDLEY to Labeler Sat 7p-11p || Not trained, or disallowd in Assignment List',\n",
       " '   Fail to assign K. ADCOCK to Labeler Sat 7p-11p || Total hours in week exceeds 60']"
      ]
     },
     "execution_count": 679,
     "metadata": {},
     "output_type": "execute_result"
    }
   ],
   "source": [
    "mySched.assnLog"
   ]
  },
  {
   "cell_type": "code",
   "execution_count": 14,
   "metadata": {},
   "outputs": [
    {
     "data": {
      "text/plain": [
       "'F'"
      ]
     },
     "execution_count": 14,
     "metadata": {},
     "output_type": "execute_result"
    }
   ],
   "source": [
    "mySched.slots['9_Labeler'].assnType"
   ]
  },
  {
   "cell_type": "code",
   "execution_count": 35,
   "metadata": {},
   "outputs": [
    {
     "data": {
      "text/plain": [
       "['Initial Forcing phase... Forcing to slots with no eligible volunteers',\n",
       " 'Looking to Force to Labeler Sat 7a-11a',\n",
       " '   Fail to assign W. ADDLEY to Labeler Sat 7a-11a || Not trained, or disallowd in Assignment List',\n",
       " '   FORCED Assignment: K. ADCOCK to Labeler 7a-11a (Sat)',\n",
       " 'Looking to Force to Labeler Sat 11a-3p',\n",
       " '   Fail to assign W. ADDLEY to Labeler Sat 11a-3p || Not trained, or disallowd in Assignment List',\n",
       " '   FORCED Assignment: K. ADCOCK to Labeler 11a-3p (Sat)',\n",
       " 'Voluntary Assignment Phase... Assigning slots in sequence of most to least constrained by number of eligible volunteers',\n",
       " 'Looking to voluntarily assign to Labeler Sat 3a-7a',\n",
       " '   Voluntary Assignment: K. ADCOCK to Labeler 3a-7a (Sat)',\n",
       " 'Looking to voluntarily assign to Labeler Sat 3p-7p',\n",
       " '   Fail to assign K. ADCOCK to Labeler Sat 3p-7p || Total consecutive hours would exceed 12',\n",
       " 'Looking to voluntarily assign to Labeler Sat 7p-11p',\n",
       " '   Fail to assign K. ADCOCK to Labeler Sat 7p-11p || Insufficient gap time between this shift and another',\n",
       " 'Looking to voluntarily assign to Labeler Sun 11p(Sat)-3a(Sun)',\n",
       " '   Voluntary Assignment: K. ADCOCK to Labeler 11p(Sat)-3a(Sun) (Sun)',\n",
       " 'Looking to voluntarily assign to Labeler Sun 3a-7a',\n",
       " '   Voluntary Assignment: K. ADCOCK to Labeler 3a-7a (Sun)',\n",
       " 'Final Forcing Phase... Forcing to slots with no more eligible volunteers after having assigned voluntary OT',\n",
       " 'Forcing Phase 2 on Labeler Sat 3p-7p',\n",
       " '   Fail to assign W. ADDLEY to Labeler Sat 3p-7p || Not trained, or disallowd in Assignment List',\n",
       " '   Fail to assign K. ADCOCK to Labeler Sat 3p-7p || Total hours in week exceeds 60',\n",
       " 'Forcing Phase 2 on Labeler Sat 7p-11p',\n",
       " '   Fail to assign W. ADDLEY to Labeler Sat 7p-11p || Not trained, or disallowd in Assignment List',\n",
       " '   Fail to assign K. ADCOCK to Labeler Sat 7p-11p || Total hours in week exceeds 60']"
      ]
     },
     "execution_count": 35,
     "metadata": {},
     "output_type": "execute_result"
    }
   ],
   "source": [
    "mySched.assnLog"
   ]
  },
  {
   "cell_type": "code",
   "execution_count": null,
   "metadata": {},
   "outputs": [],
   "source": [
    "mySched.slots['11_Labeler'].eligVol"
   ]
  },
  {
   "cell_type": "code",
   "execution_count": 701,
   "metadata": {},
   "outputs": [
    {
     "data": {
      "text/plain": [
       "['V', 'F', 'F', 'N', 'N', 'V', 'V']"
      ]
     },
     "execution_count": 701,
     "metadata": {},
     "output_type": "execute_result"
    }
   ],
   "source": [
    " [    mySched.slots[k].assnType    for k in   mySched.slots]"
   ]
  },
  {
   "cell_type": "code",
   "execution_count": 700,
   "metadata": {},
   "outputs": [
    {
     "data": {
      "text/plain": [
       "8"
      ]
     },
     "execution_count": 700,
     "metadata": {},
     "output_type": "execute_result"
    }
   ],
   "source": [
    "mySched.ee[7096688].totShiftHrs(mySched.slots['14_Labeler'])"
   ]
  }
 ],
 "metadata": {
  "kernelspec": {
   "display_name": "Python 3.9.12 ('base')",
   "language": "python",
   "name": "python3"
  },
  "language_info": {
   "codemirror_mode": {
    "name": "ipython",
    "version": 3
   },
   "file_extension": ".py",
   "mimetype": "text/x-python",
   "name": "python",
   "nbconvert_exporter": "python",
   "pygments_lexer": "ipython3",
   "version": "3.9.12"
  },
  "orig_nbformat": 4,
  "vscode": {
   "interpreter": {
    "hash": "ad2bdc8ecc057115af97d19610ffacc2b4e99fae6737bb82f5d7fb13d2f2c186"
   }
  }
 },
 "nbformat": 4,
 "nbformat_minor": 2
}
