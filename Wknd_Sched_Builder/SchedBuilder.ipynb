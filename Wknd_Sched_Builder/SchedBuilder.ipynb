{
 "cells": [
  {
   "cell_type": "code",
   "execution_count": 5,
   "metadata": {},
   "outputs": [],
   "source": [
    "import SchedBuilderUtyModule as tls\n",
    "import SchedBuilderClasses as cls\n",
    "import openpyxl as pyxl\n",
    "import pandas as pd\n",
    "import numpy as np"
   ]
  },
  {
   "cell_type": "code",
   "execution_count": 34,
   "metadata": {},
   "outputs": [
    {
     "data": {
      "text/plain": [
       "<module 'SchedBuilderClasses' from 'c:\\\\Cloned_Repositories\\\\HFS_Gradio_Projects\\\\Wknd_Sched_Builder\\\\SchedBuilderClasses.py'>"
      ]
     },
     "execution_count": 34,
     "metadata": {},
     "output_type": "execute_result"
    }
   ],
   "source": [
    "from importlib import reload\n",
    "reload(tls)\n",
    "reload(cls)"
   ]
  },
  {
   "cell_type": "code",
   "execution_count": 35,
   "metadata": {},
   "outputs": [],
   "source": [
    "eeDict, openSlots, AssignmentsTbl,slot_Legend,pollDict,senList=tls.preProcessData('ValuesFTRefusal.xlsm','ValuesTempRefusal.xlsm','AssignmentList.xlsx','Long Weekend Polling.xlsx')"
   ]
  },
  {
   "cell_type": "code",
   "execution_count": null,
   "metadata": {},
   "outputs": [],
   "source": [
    "# NOTE TO SELF: I think I'm done with data preformatting.\n",
    "# Have ee objects with training, seniority etc\n",
    "# Have polling info available via keyed dictionary\n",
    "# Have slot objects made with eligVol as well\n",
    "\n",
    "#Next step: build out the schedule class with methods to populate pre assigned fields.\n",
    "#Then the algorithm to assign slots."
   ]
  }
 ],
 "metadata": {
  "kernelspec": {
   "display_name": "Python 3.9.12 ('base')",
   "language": "python",
   "name": "python3"
  },
  "language_info": {
   "codemirror_mode": {
    "name": "ipython",
    "version": 3
   },
   "file_extension": ".py",
   "mimetype": "text/x-python",
   "name": "python",
   "nbconvert_exporter": "python",
   "pygments_lexer": "ipython3",
   "version": "3.9.12"
  },
  "orig_nbformat": 4,
  "vscode": {
   "interpreter": {
    "hash": "ad2bdc8ecc057115af97d19610ffacc2b4e99fae6737bb82f5d7fb13d2f2c186"
   }
  }
 },
 "nbformat": 4,
 "nbformat_minor": 2
}
