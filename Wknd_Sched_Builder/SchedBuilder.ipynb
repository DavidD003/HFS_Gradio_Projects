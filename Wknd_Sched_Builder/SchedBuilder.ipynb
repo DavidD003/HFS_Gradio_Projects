{
 "cells": [
  {
   "cell_type": "code",
   "execution_count": 772,
   "metadata": {},
   "outputs": [],
   "source": [
    "import SchedBuilderUtyModule as tls\n",
    "import SchedBuilderClasses as cls\n",
    "import openpyxl as pyxl\n",
    "import pandas as pd\n",
    "import numpy as np\n",
    "from copy import deepcopy"
   ]
  },
  {
   "cell_type": "code",
   "execution_count": 781,
   "metadata": {},
   "outputs": [
    {
     "data": {
      "text/plain": [
       "<module 'SchedBuilderClasses' from 'c:\\\\Cloned_Repositories\\\\HFS_Gradio_Projects\\\\Wknd_Sched_Builder\\\\SchedBuilderClasses.py'>"
      ]
     },
     "execution_count": 781,
     "metadata": {},
     "output_type": "execute_result"
    }
   ],
   "source": [
    "from importlib import reload\n",
    "reload(tls)\n",
    "reload(cls)"
   ]
  },
  {
   "cell_type": "code",
   "execution_count": 782,
   "metadata": {},
   "outputs": [],
   "source": [
    "Acrew='Blue'\n",
    "wkHrs=40\n",
    "mySched=tls.preProcessData(Acrew,wkHrs,'ValuesFTRefusal.xlsm','ValuesTempRefusal.xlsm','AssignmentList.xlsx','Long Weekend Polling.xlsx')"
   ]
  },
  {
   "cell_type": "code",
   "execution_count": 610,
   "metadata": {},
   "outputs": [],
   "source": [
    "Acrew='Blue'\n",
    "wkHrs=40 #if 5 day week, 40, if 4 day week should be 32\n",
    "mySched=tls.preProcessData(Acrew,wkHrs,'SampFT.xlsm','SampTemp.xlsm','SampAssn.xlsx','SampPoll.xlsx',pNT=True)"
   ]
  },
  {
   "cell_type": "code",
   "execution_count": 783,
   "metadata": {},
   "outputs": [],
   "source": [
    "mySched.evalAssnList()\n",
    "mySched.proofEligVol()"
   ]
  },
  {
   "cell_type": "code",
   "execution_count": 784,
   "metadata": {},
   "outputs": [
    {
     "name": "stdout",
     "output_type": "stream",
     "text": [
      "Calling fillOutSched_v2(<SchedBuilderClasses.Schedule object at 0x000001F693FFF190>)\n",
      "Calling fillOutSched_v2(<SchedBuilderClasses.Schedule object at 0x000001F693FFF190>, ['13_Extra Depal', '14_Extra Depal', '10_Filler Relief', '16_Filler Relief', '13_Bottle Supply Relief', '14_Bottle Supply Relief', '7_PFT', '8_PFT', '9_PFT', '13_PFT', '14_PFT', '15_PFT', '7_Pall Rlf', '8_Pall Rlf', '11_Pall Rlf', '12_Pall Rlf', '13_Pall Rlf', '14_Pall Rlf', '9_Labeler', '15_Labeler', '11_Pall Operator', '12_Pall Operator', '10_LC1 Can Utility', '11_LC1 Can Utility', '12_LC1 Can Utility', '16_LC1 Can Utility', '17_LC1 Can Utility', '18_LC1 Can Utility', '7_VarioPak', '8_VarioPak', '9_VarioPak', '10_VarioPak', '11_VarioPak', '12_VarioPak', '13_VarioPak', '14_VarioPak', '15_VarioPak', '16_VarioPak', '17_VarioPak', '18_VarioPak', '7_LC2 Filler 2', '8_LC2 Filler 2', '9_LC2 Filler 2', '10_LC2 Filler 2', '11_LC2 Filler 2', '12_LC2 Filler 2', '13_LC2 Filler 2', '14_LC2 Filler 2', '15_LC2 Filler 2', '16_LC2 Filler 2', '17_LC2 Filler 2', '18_LC2 Filler 2', '10_LC2 Packer 2', '11_LC2 Packer 2', '12_LC2 Packer 2', '16_LC2 Packer 2', '17_LC2 Packer 2', '18_LC2 Packer 2', '15_Keg Line', '16_Keg Line', '8_Labeler'], 1)\n",
      "Calling fillOutSched_v2(<SchedBuilderClasses.Schedule object at 0x000001F693FFF190>, ['13_Extra Depal', '14_Extra Depal', '10_Filler Relief', '16_Filler Relief', '13_Bottle Supply Relief', '14_Bottle Supply Relief', '7_PFT', '8_PFT', '9_PFT', '13_PFT', '14_PFT', '15_PFT', '7_Pall Rlf', '8_Pall Rlf', '11_Pall Rlf', '12_Pall Rlf', '13_Pall Rlf', '14_Pall Rlf', '9_Labeler', '15_Labeler', '11_Pall Operator', '12_Pall Operator', '10_LC1 Can Utility', '11_LC1 Can Utility', '12_LC1 Can Utility', '16_LC1 Can Utility', '17_LC1 Can Utility', '18_LC1 Can Utility', '7_VarioPak', '8_VarioPak', '9_VarioPak', '10_VarioPak', '11_VarioPak', '12_VarioPak', '13_VarioPak', '14_VarioPak', '15_VarioPak', '16_VarioPak', '17_VarioPak', '18_VarioPak', '7_LC2 Filler 2', '8_LC2 Filler 2', '9_LC2 Filler 2', '10_LC2 Filler 2', '11_LC2 Filler 2', '12_LC2 Filler 2', '13_LC2 Filler 2', '14_LC2 Filler 2', '15_LC2 Filler 2', '16_LC2 Filler 2', '17_LC2 Filler 2', '18_LC2 Filler 2', '10_LC2 Packer 2', '11_LC2 Packer 2', '12_LC2 Packer 2', '16_LC2 Packer 2', '17_LC2 Packer 2', '18_LC2 Packer 2', '15_Keg Line', '16_Keg Line', '8_Labeler', '7_Labeler'], 2)\n",
      "Calling fillOutSched_v2(<SchedBuilderClasses.Schedule object at 0x000001F693FFF190>, ['13_Extra Depal', '14_Extra Depal', '10_Filler Relief', '16_Filler Relief', '13_Bottle Supply Relief', '14_Bottle Supply Relief', '7_PFT', '8_PFT', '9_PFT', '13_PFT', '14_PFT', '15_PFT', '7_Pall Rlf', '8_Pall Rlf', '11_Pall Rlf', '12_Pall Rlf', '13_Pall Rlf', '14_Pall Rlf', '9_Labeler', '15_Labeler', '11_Pall Operator', '12_Pall Operator', '10_LC1 Can Utility', '11_LC1 Can Utility', '12_LC1 Can Utility', '16_LC1 Can Utility', '17_LC1 Can Utility', '18_LC1 Can Utility', '7_VarioPak', '8_VarioPak', '9_VarioPak', '10_VarioPak', '11_VarioPak', '12_VarioPak', '13_VarioPak', '14_VarioPak', '15_VarioPak', '16_VarioPak', '17_VarioPak', '18_VarioPak', '7_LC2 Filler 2', '8_LC2 Filler 2', '9_LC2 Filler 2', '10_LC2 Filler 2', '11_LC2 Filler 2', '12_LC2 Filler 2', '13_LC2 Filler 2', '14_LC2 Filler 2', '15_LC2 Filler 2', '16_LC2 Filler 2', '17_LC2 Filler 2', '18_LC2 Filler 2', '10_LC2 Packer 2', '11_LC2 Packer 2', '12_LC2 Packer 2', '16_LC2 Packer 2', '17_LC2 Packer 2', '18_LC2 Packer 2', '15_Keg Line', '16_Keg Line', '8_Labeler', '7_Labeler', '18_Filler Relief'], 3)\n",
      "Calling fillOutSched_v2(<SchedBuilderClasses.Schedule object at 0x000001F693FFF190>, ['13_Extra Depal', '14_Extra Depal', '10_Filler Relief', '16_Filler Relief', '13_Bottle Supply Relief', '14_Bottle Supply Relief', '7_PFT', '8_PFT', '9_PFT', '13_PFT', '14_PFT', '15_PFT', '7_Pall Rlf', '8_Pall Rlf', '11_Pall Rlf', '12_Pall Rlf', '13_Pall Rlf', '14_Pall Rlf', '9_Labeler', '15_Labeler', '11_Pall Operator', '12_Pall Operator', '10_LC1 Can Utility', '11_LC1 Can Utility', '12_LC1 Can Utility', '16_LC1 Can Utility', '17_LC1 Can Utility', '18_LC1 Can Utility', '7_VarioPak', '8_VarioPak', '9_VarioPak', '10_VarioPak', '11_VarioPak', '12_VarioPak', '13_VarioPak', '14_VarioPak', '15_VarioPak', '16_VarioPak', '17_VarioPak', '18_VarioPak', '7_LC2 Filler 2', '8_LC2 Filler 2', '9_LC2 Filler 2', '10_LC2 Filler 2', '11_LC2 Filler 2', '12_LC2 Filler 2', '13_LC2 Filler 2', '14_LC2 Filler 2', '15_LC2 Filler 2', '16_LC2 Filler 2', '17_LC2 Filler 2', '18_LC2 Filler 2', '10_LC2 Packer 2', '11_LC2 Packer 2', '12_LC2 Packer 2', '16_LC2 Packer 2', '17_LC2 Packer 2', '18_LC2 Packer 2', '15_Keg Line', '16_Keg Line', '8_Labeler', '7_Labeler', '18_Filler Relief', '17_Filler Relief'], 4)\n",
      "Calling fillOutSched_v2(<SchedBuilderClasses.Schedule object at 0x000001F693FFF190>, ['13_Extra Depal', '14_Extra Depal', '10_Filler Relief', '16_Filler Relief', '13_Bottle Supply Relief', '14_Bottle Supply Relief', '7_PFT', '8_PFT', '9_PFT', '13_PFT', '14_PFT', '15_PFT', '7_Pall Rlf', '8_Pall Rlf', '11_Pall Rlf', '12_Pall Rlf', '13_Pall Rlf', '14_Pall Rlf', '9_Labeler', '15_Labeler', '11_Pall Operator', '12_Pall Operator', '10_LC1 Can Utility', '11_LC1 Can Utility', '12_LC1 Can Utility', '16_LC1 Can Utility', '17_LC1 Can Utility', '18_LC1 Can Utility', '7_VarioPak', '8_VarioPak', '9_VarioPak', '10_VarioPak', '11_VarioPak', '12_VarioPak', '13_VarioPak', '14_VarioPak', '15_VarioPak', '16_VarioPak', '17_VarioPak', '18_VarioPak', '7_LC2 Filler 2', '8_LC2 Filler 2', '9_LC2 Filler 2', '10_LC2 Filler 2', '11_LC2 Filler 2', '12_LC2 Filler 2', '13_LC2 Filler 2', '14_LC2 Filler 2', '15_LC2 Filler 2', '16_LC2 Filler 2', '17_LC2 Filler 2', '18_LC2 Filler 2', '10_LC2 Packer 2', '11_LC2 Packer 2', '12_LC2 Packer 2', '16_LC2 Packer 2', '17_LC2 Packer 2', '18_LC2 Packer 2', '15_Keg Line', '16_Keg Line', '8_Labeler', '7_Labeler', '18_Filler Relief', '17_Filler Relief', '12_Filler Relief'], 5)\n",
      "Calling fillOutSched_v2(<SchedBuilderClasses.Schedule object at 0x000001F693FFF190>, ['13_Extra Depal', '14_Extra Depal', '10_Filler Relief', '16_Filler Relief', '13_Bottle Supply Relief', '14_Bottle Supply Relief', '7_PFT', '8_PFT', '9_PFT', '13_PFT', '14_PFT', '15_PFT', '7_Pall Rlf', '8_Pall Rlf', '11_Pall Rlf', '12_Pall Rlf', '13_Pall Rlf', '14_Pall Rlf', '9_Labeler', '15_Labeler', '11_Pall Operator', '12_Pall Operator', '10_LC1 Can Utility', '11_LC1 Can Utility', '12_LC1 Can Utility', '16_LC1 Can Utility', '17_LC1 Can Utility', '18_LC1 Can Utility', '7_VarioPak', '8_VarioPak', '9_VarioPak', '10_VarioPak', '11_VarioPak', '12_VarioPak', '13_VarioPak', '14_VarioPak', '15_VarioPak', '16_VarioPak', '17_VarioPak', '18_VarioPak', '7_LC2 Filler 2', '8_LC2 Filler 2', '9_LC2 Filler 2', '10_LC2 Filler 2', '11_LC2 Filler 2', '12_LC2 Filler 2', '13_LC2 Filler 2', '14_LC2 Filler 2', '15_LC2 Filler 2', '16_LC2 Filler 2', '17_LC2 Filler 2', '18_LC2 Filler 2', '10_LC2 Packer 2', '11_LC2 Packer 2', '12_LC2 Packer 2', '16_LC2 Packer 2', '17_LC2 Packer 2', '18_LC2 Packer 2', '15_Keg Line', '16_Keg Line', '8_Labeler', '7_Labeler', '18_Filler Relief', '17_Filler Relief', '12_Filler Relief', '11_Filler Relief'], 6)\n",
      "Calling fillOutSched_v2(<SchedBuilderClasses.Schedule object at 0x000001F693FFF190>, ['13_Extra Depal', '14_Extra Depal', '10_Filler Relief', '16_Filler Relief', '13_Bottle Supply Relief', '14_Bottle Supply Relief', '7_PFT', '8_PFT', '9_PFT', '13_PFT', '14_PFT', '15_PFT', '7_Pall Rlf', '8_Pall Rlf', '11_Pall Rlf', '12_Pall Rlf', '13_Pall Rlf', '14_Pall Rlf', '9_Labeler', '15_Labeler', '11_Pall Operator', '12_Pall Operator', '10_LC1 Can Utility', '11_LC1 Can Utility', '12_LC1 Can Utility', '16_LC1 Can Utility', '17_LC1 Can Utility', '18_LC1 Can Utility', '7_VarioPak', '8_VarioPak', '9_VarioPak', '10_VarioPak', '11_VarioPak', '12_VarioPak', '13_VarioPak', '14_VarioPak', '15_VarioPak', '16_VarioPak', '17_VarioPak', '18_VarioPak', '7_LC2 Filler 2', '8_LC2 Filler 2', '9_LC2 Filler 2', '10_LC2 Filler 2', '11_LC2 Filler 2', '12_LC2 Filler 2', '13_LC2 Filler 2', '14_LC2 Filler 2', '15_LC2 Filler 2', '16_LC2 Filler 2', '17_LC2 Filler 2', '18_LC2 Filler 2', '10_LC2 Packer 2', '11_LC2 Packer 2', '12_LC2 Packer 2', '16_LC2 Packer 2', '17_LC2 Packer 2', '18_LC2 Packer 2', '15_Keg Line', '16_Keg Line', '8_Labeler', '7_Labeler', '18_Filler Relief', '17_Filler Relief', '12_Filler Relief', '11_Filler Relief', '7_Bottle Supply Relief'], 7)\n",
      "Calling fillOutSched_v2(<SchedBuilderClasses.Schedule object at 0x000001F693FFF190>, ['13_Extra Depal', '14_Extra Depal', '10_Filler Relief', '16_Filler Relief', '13_Bottle Supply Relief', '14_Bottle Supply Relief', '7_PFT', '8_PFT', '9_PFT', '13_PFT', '14_PFT', '15_PFT', '7_Pall Rlf', '8_Pall Rlf', '11_Pall Rlf', '12_Pall Rlf', '13_Pall Rlf', '14_Pall Rlf', '9_Labeler', '15_Labeler', '11_Pall Operator', '12_Pall Operator', '10_LC1 Can Utility', '11_LC1 Can Utility', '12_LC1 Can Utility', '16_LC1 Can Utility', '17_LC1 Can Utility', '18_LC1 Can Utility', '7_VarioPak', '8_VarioPak', '9_VarioPak', '10_VarioPak', '11_VarioPak', '12_VarioPak', '13_VarioPak', '14_VarioPak', '15_VarioPak', '16_VarioPak', '17_VarioPak', '18_VarioPak', '7_LC2 Filler 2', '8_LC2 Filler 2', '9_LC2 Filler 2', '10_LC2 Filler 2', '11_LC2 Filler 2', '12_LC2 Filler 2', '13_LC2 Filler 2', '14_LC2 Filler 2', '15_LC2 Filler 2', '16_LC2 Filler 2', '17_LC2 Filler 2', '18_LC2 Filler 2', '10_LC2 Packer 2', '11_LC2 Packer 2', '12_LC2 Packer 2', '16_LC2 Packer 2', '17_LC2 Packer 2', '18_LC2 Packer 2', '15_Keg Line', '16_Keg Line', '8_Labeler', '7_Labeler', '18_Filler Relief', '17_Filler Relief', '12_Filler Relief', '11_Filler Relief', '7_Bottle Supply Relief', '7_Extra Depal'], 8)\n",
      "Calling fillOutSched_v2(<SchedBuilderClasses.Schedule object at 0x000001F693FFF190>, ['13_Extra Depal', '14_Extra Depal', '10_Filler Relief', '16_Filler Relief', '13_Bottle Supply Relief', '14_Bottle Supply Relief', '7_PFT', '8_PFT', '9_PFT', '13_PFT', '14_PFT', '15_PFT', '7_Pall Rlf', '8_Pall Rlf', '11_Pall Rlf', '12_Pall Rlf', '13_Pall Rlf', '14_Pall Rlf', '9_Labeler', '15_Labeler', '11_Pall Operator', '12_Pall Operator', '10_LC1 Can Utility', '11_LC1 Can Utility', '12_LC1 Can Utility', '16_LC1 Can Utility', '17_LC1 Can Utility', '18_LC1 Can Utility', '7_VarioPak', '8_VarioPak', '9_VarioPak', '10_VarioPak', '11_VarioPak', '12_VarioPak', '13_VarioPak', '14_VarioPak', '15_VarioPak', '16_VarioPak', '17_VarioPak', '18_VarioPak', '7_LC2 Filler 2', '8_LC2 Filler 2', '9_LC2 Filler 2', '10_LC2 Filler 2', '11_LC2 Filler 2', '12_LC2 Filler 2', '13_LC2 Filler 2', '14_LC2 Filler 2', '15_LC2 Filler 2', '16_LC2 Filler 2', '17_LC2 Filler 2', '18_LC2 Filler 2', '10_LC2 Packer 2', '11_LC2 Packer 2', '12_LC2 Packer 2', '16_LC2 Packer 2', '17_LC2 Packer 2', '18_LC2 Packer 2', '15_Keg Line', '16_Keg Line', '8_Labeler', '7_Labeler', '18_Filler Relief', '17_Filler Relief', '12_Filler Relief', '11_Filler Relief', '7_Bottle Supply Relief', '7_Extra Depal', '8_Bottle Supply Relief'], 9)\n",
      "Calling fillOutSched_v2(<SchedBuilderClasses.Schedule object at 0x000001F693FFF190>, ['13_Extra Depal', '14_Extra Depal', '10_Filler Relief', '16_Filler Relief', '13_Bottle Supply Relief', '14_Bottle Supply Relief', '7_PFT', '8_PFT', '9_PFT', '13_PFT', '14_PFT', '15_PFT', '7_Pall Rlf', '8_Pall Rlf', '11_Pall Rlf', '12_Pall Rlf', '13_Pall Rlf', '14_Pall Rlf', '9_Labeler', '15_Labeler', '11_Pall Operator', '12_Pall Operator', '10_LC1 Can Utility', '11_LC1 Can Utility', '12_LC1 Can Utility', '16_LC1 Can Utility', '17_LC1 Can Utility', '18_LC1 Can Utility', '7_VarioPak', '8_VarioPak', '9_VarioPak', '10_VarioPak', '11_VarioPak', '12_VarioPak', '13_VarioPak', '14_VarioPak', '15_VarioPak', '16_VarioPak', '17_VarioPak', '18_VarioPak', '7_LC2 Filler 2', '8_LC2 Filler 2', '9_LC2 Filler 2', '10_LC2 Filler 2', '11_LC2 Filler 2', '12_LC2 Filler 2', '13_LC2 Filler 2', '14_LC2 Filler 2', '15_LC2 Filler 2', '16_LC2 Filler 2', '17_LC2 Filler 2', '18_LC2 Filler 2', '10_LC2 Packer 2', '11_LC2 Packer 2', '12_LC2 Packer 2', '16_LC2 Packer 2', '17_LC2 Packer 2', '18_LC2 Packer 2', '15_Keg Line', '16_Keg Line', '8_Labeler', '7_Labeler', '18_Filler Relief', '17_Filler Relief', '12_Filler Relief', '11_Filler Relief', '7_Bottle Supply Relief', '7_Extra Depal', '8_Bottle Supply Relief', '8_Extra Depal'], 10)\n",
      "Calling fillOutSched_v2(<SchedBuilderClasses.Schedule object at 0x000001F693FFF190>, ['13_Extra Depal', '14_Extra Depal', '10_Filler Relief', '16_Filler Relief', '13_Bottle Supply Relief', '14_Bottle Supply Relief', '7_PFT', '8_PFT', '9_PFT', '13_PFT', '14_PFT', '15_PFT', '7_Pall Rlf', '8_Pall Rlf', '11_Pall Rlf', '12_Pall Rlf', '13_Pall Rlf', '14_Pall Rlf', '9_Labeler', '15_Labeler', '11_Pall Operator', '12_Pall Operator', '10_LC1 Can Utility', '11_LC1 Can Utility', '12_LC1 Can Utility', '16_LC1 Can Utility', '17_LC1 Can Utility', '18_LC1 Can Utility', '7_VarioPak', '8_VarioPak', '9_VarioPak', '10_VarioPak', '11_VarioPak', '12_VarioPak', '13_VarioPak', '14_VarioPak', '15_VarioPak', '16_VarioPak', '17_VarioPak', '18_VarioPak', '7_LC2 Filler 2', '8_LC2 Filler 2', '9_LC2 Filler 2', '10_LC2 Filler 2', '11_LC2 Filler 2', '12_LC2 Filler 2', '13_LC2 Filler 2', '14_LC2 Filler 2', '15_LC2 Filler 2', '16_LC2 Filler 2', '17_LC2 Filler 2', '18_LC2 Filler 2', '10_LC2 Packer 2', '11_LC2 Packer 2', '12_LC2 Packer 2', '16_LC2 Packer 2', '17_LC2 Packer 2', '18_LC2 Packer 2', '15_Keg Line', '16_Keg Line', '8_Labeler', '7_Labeler', '18_Filler Relief', '17_Filler Relief', '12_Filler Relief', '11_Filler Relief', '7_Bottle Supply Relief', '7_Extra Depal', '8_Bottle Supply Relief', '8_Extra Depal', '11_Bottle Supply Relief'], 11)\n",
      "Calling fillOutSched_v2(<SchedBuilderClasses.Schedule object at 0x000001F693FFF190>, ['13_Extra Depal', '14_Extra Depal', '10_Filler Relief', '16_Filler Relief', '13_Bottle Supply Relief', '14_Bottle Supply Relief', '7_PFT', '8_PFT', '9_PFT', '13_PFT', '14_PFT', '15_PFT', '7_Pall Rlf', '8_Pall Rlf', '11_Pall Rlf', '12_Pall Rlf', '13_Pall Rlf', '14_Pall Rlf', '9_Labeler', '15_Labeler', '11_Pall Operator', '12_Pall Operator', '10_LC1 Can Utility', '11_LC1 Can Utility', '12_LC1 Can Utility', '16_LC1 Can Utility', '17_LC1 Can Utility', '18_LC1 Can Utility', '7_VarioPak', '8_VarioPak', '9_VarioPak', '10_VarioPak', '11_VarioPak', '12_VarioPak', '13_VarioPak', '14_VarioPak', '15_VarioPak', '16_VarioPak', '17_VarioPak', '18_VarioPak', '7_LC2 Filler 2', '8_LC2 Filler 2', '9_LC2 Filler 2', '10_LC2 Filler 2', '11_LC2 Filler 2', '12_LC2 Filler 2', '13_LC2 Filler 2', '14_LC2 Filler 2', '15_LC2 Filler 2', '16_LC2 Filler 2', '17_LC2 Filler 2', '18_LC2 Filler 2', '10_LC2 Packer 2', '11_LC2 Packer 2', '12_LC2 Packer 2', '16_LC2 Packer 2', '17_LC2 Packer 2', '18_LC2 Packer 2', '15_Keg Line', '16_Keg Line', '8_Labeler', '7_Labeler', '18_Filler Relief', '17_Filler Relief', '12_Filler Relief', '11_Filler Relief', '7_Bottle Supply Relief', '7_Extra Depal', '8_Bottle Supply Relief', '8_Extra Depal', '11_Bottle Supply Relief', '11_Extra Depal'], 12)\n",
      "Calling fillOutSched_v2(<SchedBuilderClasses.Schedule object at 0x000001F693FFF190>, ['13_Extra Depal', '14_Extra Depal', '10_Filler Relief', '16_Filler Relief', '13_Bottle Supply Relief', '14_Bottle Supply Relief', '7_PFT', '8_PFT', '9_PFT', '13_PFT', '14_PFT', '15_PFT', '7_Pall Rlf', '8_Pall Rlf', '11_Pall Rlf', '12_Pall Rlf', '13_Pall Rlf', '14_Pall Rlf', '9_Labeler', '15_Labeler', '11_Pall Operator', '12_Pall Operator', '10_LC1 Can Utility', '11_LC1 Can Utility', '12_LC1 Can Utility', '16_LC1 Can Utility', '17_LC1 Can Utility', '18_LC1 Can Utility', '7_VarioPak', '8_VarioPak', '9_VarioPak', '10_VarioPak', '11_VarioPak', '12_VarioPak', '13_VarioPak', '14_VarioPak', '15_VarioPak', '16_VarioPak', '17_VarioPak', '18_VarioPak', '7_LC2 Filler 2', '8_LC2 Filler 2', '9_LC2 Filler 2', '10_LC2 Filler 2', '11_LC2 Filler 2', '12_LC2 Filler 2', '13_LC2 Filler 2', '14_LC2 Filler 2', '15_LC2 Filler 2', '16_LC2 Filler 2', '17_LC2 Filler 2', '18_LC2 Filler 2', '10_LC2 Packer 2', '11_LC2 Packer 2', '12_LC2 Packer 2', '16_LC2 Packer 2', '17_LC2 Packer 2', '18_LC2 Packer 2', '15_Keg Line', '16_Keg Line', '8_Labeler', '7_Labeler', '18_Filler Relief', '17_Filler Relief', '12_Filler Relief', '11_Filler Relief', '7_Bottle Supply Relief', '7_Extra Depal', '8_Bottle Supply Relief', '8_Extra Depal', '11_Bottle Supply Relief', '11_Extra Depal', '12_Bottle Supply Relief'], 13)\n",
      "Calling fillOutSched_v2(<SchedBuilderClasses.Schedule object at 0x000001F693FFF190>, ['13_Extra Depal', '14_Extra Depal', '10_Filler Relief', '16_Filler Relief', '13_Bottle Supply Relief', '14_Bottle Supply Relief', '7_PFT', '8_PFT', '9_PFT', '13_PFT', '14_PFT', '15_PFT', '7_Pall Rlf', '8_Pall Rlf', '11_Pall Rlf', '12_Pall Rlf', '13_Pall Rlf', '14_Pall Rlf', '9_Labeler', '15_Labeler', '11_Pall Operator', '12_Pall Operator', '10_LC1 Can Utility', '11_LC1 Can Utility', '12_LC1 Can Utility', '16_LC1 Can Utility', '17_LC1 Can Utility', '18_LC1 Can Utility', '7_VarioPak', '8_VarioPak', '9_VarioPak', '10_VarioPak', '11_VarioPak', '12_VarioPak', '13_VarioPak', '14_VarioPak', '15_VarioPak', '16_VarioPak', '17_VarioPak', '18_VarioPak', '7_LC2 Filler 2', '8_LC2 Filler 2', '9_LC2 Filler 2', '10_LC2 Filler 2', '11_LC2 Filler 2', '12_LC2 Filler 2', '13_LC2 Filler 2', '14_LC2 Filler 2', '15_LC2 Filler 2', '16_LC2 Filler 2', '17_LC2 Filler 2', '18_LC2 Filler 2', '10_LC2 Packer 2', '11_LC2 Packer 2', '12_LC2 Packer 2', '16_LC2 Packer 2', '17_LC2 Packer 2', '18_LC2 Packer 2', '15_Keg Line', '16_Keg Line', '8_Labeler', '7_Labeler', '18_Filler Relief', '17_Filler Relief', '12_Filler Relief', '11_Filler Relief', '7_Bottle Supply Relief', '7_Extra Depal', '8_Bottle Supply Relief', '8_Extra Depal', '11_Bottle Supply Relief', '11_Extra Depal', '12_Bottle Supply Relief', '12_Extra Depal'], 14)\n",
      "Calling fillOutSched_v2(<SchedBuilderClasses.Schedule object at 0x000001F693FFF190>, ['13_Extra Depal', '14_Extra Depal', '10_Filler Relief', '16_Filler Relief', '13_Bottle Supply Relief', '14_Bottle Supply Relief', '7_PFT', '8_PFT', '9_PFT', '13_PFT', '14_PFT', '15_PFT', '7_Pall Rlf', '8_Pall Rlf', '11_Pall Rlf', '12_Pall Rlf', '13_Pall Rlf', '14_Pall Rlf', '9_Labeler', '15_Labeler', '11_Pall Operator', '12_Pall Operator', '10_LC1 Can Utility', '11_LC1 Can Utility', '12_LC1 Can Utility', '16_LC1 Can Utility', '17_LC1 Can Utility', '18_LC1 Can Utility', '7_VarioPak', '8_VarioPak', '9_VarioPak', '10_VarioPak', '11_VarioPak', '12_VarioPak', '13_VarioPak', '14_VarioPak', '15_VarioPak', '16_VarioPak', '17_VarioPak', '18_VarioPak', '7_LC2 Filler 2', '8_LC2 Filler 2', '9_LC2 Filler 2', '10_LC2 Filler 2', '11_LC2 Filler 2', '12_LC2 Filler 2', '13_LC2 Filler 2', '14_LC2 Filler 2', '15_LC2 Filler 2', '16_LC2 Filler 2', '17_LC2 Filler 2', '18_LC2 Filler 2', '10_LC2 Packer 2', '11_LC2 Packer 2', '12_LC2 Packer 2', '16_LC2 Packer 2', '17_LC2 Packer 2', '18_LC2 Packer 2', '15_Keg Line', '16_Keg Line', '8_Labeler', '7_Labeler', '18_Filler Relief', '17_Filler Relief', '12_Filler Relief', '11_Filler Relief', '7_Bottle Supply Relief', '7_Extra Depal', '8_Bottle Supply Relief', '8_Extra Depal', '11_Bottle Supply Relief', '11_Extra Depal', '12_Bottle Supply Relief', '12_Extra Depal', '9_Pall Rlf', '9_Bottle Supply Relief'], 15)\n",
      "Calling fillOutSched_v2(<SchedBuilderClasses.Schedule object at 0x000001F693FFF190>, ['13_Extra Depal', '14_Extra Depal', '10_Filler Relief', '16_Filler Relief', '13_Bottle Supply Relief', '14_Bottle Supply Relief', '7_PFT', '8_PFT', '9_PFT', '13_PFT', '14_PFT', '15_PFT', '7_Pall Rlf', '8_Pall Rlf', '11_Pall Rlf', '12_Pall Rlf', '13_Pall Rlf', '14_Pall Rlf', '9_Labeler', '15_Labeler', '11_Pall Operator', '12_Pall Operator', '10_LC1 Can Utility', '11_LC1 Can Utility', '12_LC1 Can Utility', '16_LC1 Can Utility', '17_LC1 Can Utility', '18_LC1 Can Utility', '7_VarioPak', '8_VarioPak', '9_VarioPak', '10_VarioPak', '11_VarioPak', '12_VarioPak', '13_VarioPak', '14_VarioPak', '15_VarioPak', '16_VarioPak', '17_VarioPak', '18_VarioPak', '7_LC2 Filler 2', '8_LC2 Filler 2', '9_LC2 Filler 2', '10_LC2 Filler 2', '11_LC2 Filler 2', '12_LC2 Filler 2', '13_LC2 Filler 2', '14_LC2 Filler 2', '15_LC2 Filler 2', '16_LC2 Filler 2', '17_LC2 Filler 2', '18_LC2 Filler 2', '10_LC2 Packer 2', '11_LC2 Packer 2', '12_LC2 Packer 2', '16_LC2 Packer 2', '17_LC2 Packer 2', '18_LC2 Packer 2', '15_Keg Line', '16_Keg Line', '8_Labeler', '7_Labeler', '18_Filler Relief', '17_Filler Relief', '12_Filler Relief', '11_Filler Relief', '7_Bottle Supply Relief', '7_Extra Depal', '8_Bottle Supply Relief', '8_Extra Depal', '11_Bottle Supply Relief', '11_Extra Depal', '12_Bottle Supply Relief', '12_Extra Depal', '9_Pall Rlf', '9_Bottle Supply Relief', '9_Extra Depal'], 16)\n",
      "Calling fillOutSched_v2(<SchedBuilderClasses.Schedule object at 0x000001F693FFF190>, ['13_Extra Depal', '14_Extra Depal', '10_Filler Relief', '16_Filler Relief', '13_Bottle Supply Relief', '14_Bottle Supply Relief', '7_PFT', '8_PFT', '9_PFT', '13_PFT', '14_PFT', '15_PFT', '7_Pall Rlf', '8_Pall Rlf', '11_Pall Rlf', '12_Pall Rlf', '13_Pall Rlf', '14_Pall Rlf', '9_Labeler', '15_Labeler', '11_Pall Operator', '12_Pall Operator', '10_LC1 Can Utility', '11_LC1 Can Utility', '12_LC1 Can Utility', '16_LC1 Can Utility', '17_LC1 Can Utility', '18_LC1 Can Utility', '7_VarioPak', '8_VarioPak', '9_VarioPak', '10_VarioPak', '11_VarioPak', '12_VarioPak', '13_VarioPak', '14_VarioPak', '15_VarioPak', '16_VarioPak', '17_VarioPak', '18_VarioPak', '7_LC2 Filler 2', '8_LC2 Filler 2', '9_LC2 Filler 2', '10_LC2 Filler 2', '11_LC2 Filler 2', '12_LC2 Filler 2', '13_LC2 Filler 2', '14_LC2 Filler 2', '15_LC2 Filler 2', '16_LC2 Filler 2', '17_LC2 Filler 2', '18_LC2 Filler 2', '10_LC2 Packer 2', '11_LC2 Packer 2', '12_LC2 Packer 2', '16_LC2 Packer 2', '17_LC2 Packer 2', '18_LC2 Packer 2', '15_Keg Line', '16_Keg Line', '8_Labeler', '7_Labeler', '18_Filler Relief', '17_Filler Relief', '12_Filler Relief', '11_Filler Relief', '7_Bottle Supply Relief', '7_Extra Depal', '8_Bottle Supply Relief', '8_Extra Depal', '11_Bottle Supply Relief', '11_Extra Depal', '12_Bottle Supply Relief', '12_Extra Depal', '9_Pall Rlf', '9_Bottle Supply Relief', '9_Extra Depal', '10_Pall Rlf', '10_Bottle Supply Relief', '10_Pall Operator'], 17)\n",
      "Calling fillOutSched_v2(<SchedBuilderClasses.Schedule object at 0x000001F693FFF190>, ['13_Extra Depal', '14_Extra Depal', '10_Filler Relief', '16_Filler Relief', '13_Bottle Supply Relief', '14_Bottle Supply Relief', '7_PFT', '8_PFT', '9_PFT', '13_PFT', '14_PFT', '15_PFT', '7_Pall Rlf', '8_Pall Rlf', '11_Pall Rlf', '12_Pall Rlf', '13_Pall Rlf', '14_Pall Rlf', '9_Labeler', '15_Labeler', '11_Pall Operator', '12_Pall Operator', '10_LC1 Can Utility', '11_LC1 Can Utility', '12_LC1 Can Utility', '16_LC1 Can Utility', '17_LC1 Can Utility', '18_LC1 Can Utility', '7_VarioPak', '8_VarioPak', '9_VarioPak', '10_VarioPak', '11_VarioPak', '12_VarioPak', '13_VarioPak', '14_VarioPak', '15_VarioPak', '16_VarioPak', '17_VarioPak', '18_VarioPak', '7_LC2 Filler 2', '8_LC2 Filler 2', '9_LC2 Filler 2', '10_LC2 Filler 2', '11_LC2 Filler 2', '12_LC2 Filler 2', '13_LC2 Filler 2', '14_LC2 Filler 2', '15_LC2 Filler 2', '16_LC2 Filler 2', '17_LC2 Filler 2', '18_LC2 Filler 2', '10_LC2 Packer 2', '11_LC2 Packer 2', '12_LC2 Packer 2', '16_LC2 Packer 2', '17_LC2 Packer 2', '18_LC2 Packer 2', '15_Keg Line', '16_Keg Line', '8_Labeler', '7_Labeler', '18_Filler Relief', '17_Filler Relief', '12_Filler Relief', '11_Filler Relief', '7_Bottle Supply Relief', '7_Extra Depal', '8_Bottle Supply Relief', '8_Extra Depal', '11_Bottle Supply Relief', '11_Extra Depal', '12_Bottle Supply Relief', '12_Extra Depal', '9_Pall Rlf', '9_Bottle Supply Relief', '9_Extra Depal', '10_Pall Rlf', '10_Bottle Supply Relief', '10_Pall Operator', '10_Extra Depal'], 18)\n",
      "Calling fillOutSched_v2(<SchedBuilderClasses.Schedule object at 0x000001F693FFF190>, ['13_Extra Depal', '14_Extra Depal', '10_Filler Relief', '16_Filler Relief', '13_Bottle Supply Relief', '14_Bottle Supply Relief', '7_PFT', '8_PFT', '9_PFT', '13_PFT', '14_PFT', '15_PFT', '7_Pall Rlf', '8_Pall Rlf', '11_Pall Rlf', '12_Pall Rlf', '13_Pall Rlf', '14_Pall Rlf', '9_Labeler', '15_Labeler', '11_Pall Operator', '12_Pall Operator', '10_LC1 Can Utility', '11_LC1 Can Utility', '12_LC1 Can Utility', '16_LC1 Can Utility', '17_LC1 Can Utility', '18_LC1 Can Utility', '7_VarioPak', '8_VarioPak', '9_VarioPak', '10_VarioPak', '11_VarioPak', '12_VarioPak', '13_VarioPak', '14_VarioPak', '15_VarioPak', '16_VarioPak', '17_VarioPak', '18_VarioPak', '7_LC2 Filler 2', '8_LC2 Filler 2', '9_LC2 Filler 2', '10_LC2 Filler 2', '11_LC2 Filler 2', '12_LC2 Filler 2', '13_LC2 Filler 2', '14_LC2 Filler 2', '15_LC2 Filler 2', '16_LC2 Filler 2', '17_LC2 Filler 2', '18_LC2 Filler 2', '10_LC2 Packer 2', '11_LC2 Packer 2', '12_LC2 Packer 2', '16_LC2 Packer 2', '17_LC2 Packer 2', '18_LC2 Packer 2', '15_Keg Line', '16_Keg Line', '8_Labeler', '7_Labeler', '18_Filler Relief', '17_Filler Relief', '12_Filler Relief', '11_Filler Relief', '7_Bottle Supply Relief', '7_Extra Depal', '8_Bottle Supply Relief', '8_Extra Depal', '11_Bottle Supply Relief', '11_Extra Depal', '12_Bottle Supply Relief', '12_Extra Depal', '9_Pall Rlf', '9_Bottle Supply Relief', '9_Extra Depal', '10_Pall Rlf', '10_Bottle Supply Relief', '10_Pall Operator', '10_Extra Depal', '17_Extra Depal', '15_Pall Rlf', '17_Pall Operator', '17_Pall Rlf', '15_Bottle Supply Relief', '17_Bottle Supply Relief'], 19)\n",
      "Calling fillOutSched_v2(<SchedBuilderClasses.Schedule object at 0x000001F693FFF190>, ['13_Extra Depal', '14_Extra Depal', '10_Filler Relief', '16_Filler Relief', '13_Bottle Supply Relief', '14_Bottle Supply Relief', '7_PFT', '8_PFT', '9_PFT', '13_PFT', '14_PFT', '15_PFT', '7_Pall Rlf', '8_Pall Rlf', '11_Pall Rlf', '12_Pall Rlf', '13_Pall Rlf', '14_Pall Rlf', '9_Labeler', '15_Labeler', '11_Pall Operator', '12_Pall Operator', '10_LC1 Can Utility', '11_LC1 Can Utility', '12_LC1 Can Utility', '16_LC1 Can Utility', '17_LC1 Can Utility', '18_LC1 Can Utility', '7_VarioPak', '8_VarioPak', '9_VarioPak', '10_VarioPak', '11_VarioPak', '12_VarioPak', '13_VarioPak', '14_VarioPak', '15_VarioPak', '16_VarioPak', '17_VarioPak', '18_VarioPak', '7_LC2 Filler 2', '8_LC2 Filler 2', '9_LC2 Filler 2', '10_LC2 Filler 2', '11_LC2 Filler 2', '12_LC2 Filler 2', '13_LC2 Filler 2', '14_LC2 Filler 2', '15_LC2 Filler 2', '16_LC2 Filler 2', '17_LC2 Filler 2', '18_LC2 Filler 2', '10_LC2 Packer 2', '11_LC2 Packer 2', '12_LC2 Packer 2', '16_LC2 Packer 2', '17_LC2 Packer 2', '18_LC2 Packer 2', '15_Keg Line', '16_Keg Line', '8_Labeler', '7_Labeler', '18_Filler Relief', '17_Filler Relief', '12_Filler Relief', '11_Filler Relief', '7_Bottle Supply Relief', '7_Extra Depal', '8_Bottle Supply Relief', '8_Extra Depal', '11_Bottle Supply Relief', '11_Extra Depal', '12_Bottle Supply Relief', '12_Extra Depal', '9_Pall Rlf', '9_Bottle Supply Relief', '9_Extra Depal', '10_Pall Rlf', '10_Bottle Supply Relief', '10_Pall Operator', '10_Extra Depal', '17_Extra Depal', '15_Pall Rlf', '17_Pall Operator', '17_Pall Rlf', '15_Bottle Supply Relief', '17_Bottle Supply Relief', '15_Extra Depal'], 20)\n",
      "Calling fillOutSched_v2(<SchedBuilderClasses.Schedule object at 0x000001F693FFF190>, ['13_Extra Depal', '14_Extra Depal', '10_Filler Relief', '16_Filler Relief', '13_Bottle Supply Relief', '14_Bottle Supply Relief', '7_PFT', '8_PFT', '9_PFT', '13_PFT', '14_PFT', '15_PFT', '7_Pall Rlf', '8_Pall Rlf', '11_Pall Rlf', '12_Pall Rlf', '13_Pall Rlf', '14_Pall Rlf', '9_Labeler', '15_Labeler', '11_Pall Operator', '12_Pall Operator', '10_LC1 Can Utility', '11_LC1 Can Utility', '12_LC1 Can Utility', '16_LC1 Can Utility', '17_LC1 Can Utility', '18_LC1 Can Utility', '7_VarioPak', '8_VarioPak', '9_VarioPak', '10_VarioPak', '11_VarioPak', '12_VarioPak', '13_VarioPak', '14_VarioPak', '15_VarioPak', '16_VarioPak', '17_VarioPak', '18_VarioPak', '7_LC2 Filler 2', '8_LC2 Filler 2', '9_LC2 Filler 2', '10_LC2 Filler 2', '11_LC2 Filler 2', '12_LC2 Filler 2', '13_LC2 Filler 2', '14_LC2 Filler 2', '15_LC2 Filler 2', '16_LC2 Filler 2', '17_LC2 Filler 2', '18_LC2 Filler 2', '10_LC2 Packer 2', '11_LC2 Packer 2', '12_LC2 Packer 2', '16_LC2 Packer 2', '17_LC2 Packer 2', '18_LC2 Packer 2', '15_Keg Line', '16_Keg Line', '8_Labeler', '7_Labeler', '18_Filler Relief', '17_Filler Relief', '12_Filler Relief', '11_Filler Relief', '7_Bottle Supply Relief', '7_Extra Depal', '8_Bottle Supply Relief', '8_Extra Depal', '11_Bottle Supply Relief', '11_Extra Depal', '12_Bottle Supply Relief', '12_Extra Depal', '9_Pall Rlf', '9_Bottle Supply Relief', '9_Extra Depal', '10_Pall Rlf', '10_Bottle Supply Relief', '10_Pall Operator', '10_Extra Depal', '17_Extra Depal', '15_Pall Rlf', '17_Pall Operator', '17_Pall Rlf', '15_Bottle Supply Relief', '17_Bottle Supply Relief', '15_Extra Depal', '16_Bottle Supply Relief', '16_Pall Rlf', '18_Pall Rlf', '16_Pall Operator', '18_Pall Operator', '18_Extra Depal', '18_Bottle Supply Relief'], 21)\n",
      "Calling fillOutSched_v2(<SchedBuilderClasses.Schedule object at 0x000001F693FFF190>, ['13_Extra Depal', '14_Extra Depal', '10_Filler Relief', '16_Filler Relief', '13_Bottle Supply Relief', '14_Bottle Supply Relief', '7_PFT', '8_PFT', '9_PFT', '13_PFT', '14_PFT', '15_PFT', '7_Pall Rlf', '8_Pall Rlf', '11_Pall Rlf', '12_Pall Rlf', '13_Pall Rlf', '14_Pall Rlf', '9_Labeler', '15_Labeler', '11_Pall Operator', '12_Pall Operator', '10_LC1 Can Utility', '11_LC1 Can Utility', '12_LC1 Can Utility', '16_LC1 Can Utility', '17_LC1 Can Utility', '18_LC1 Can Utility', '7_VarioPak', '8_VarioPak', '9_VarioPak', '10_VarioPak', '11_VarioPak', '12_VarioPak', '13_VarioPak', '14_VarioPak', '15_VarioPak', '16_VarioPak', '17_VarioPak', '18_VarioPak', '7_LC2 Filler 2', '8_LC2 Filler 2', '9_LC2 Filler 2', '10_LC2 Filler 2', '11_LC2 Filler 2', '12_LC2 Filler 2', '13_LC2 Filler 2', '14_LC2 Filler 2', '15_LC2 Filler 2', '16_LC2 Filler 2', '17_LC2 Filler 2', '18_LC2 Filler 2', '10_LC2 Packer 2', '11_LC2 Packer 2', '12_LC2 Packer 2', '16_LC2 Packer 2', '17_LC2 Packer 2', '18_LC2 Packer 2', '15_Keg Line', '16_Keg Line', '8_Labeler', '7_Labeler', '18_Filler Relief', '17_Filler Relief', '12_Filler Relief', '11_Filler Relief', '7_Bottle Supply Relief', '7_Extra Depal', '8_Bottle Supply Relief', '8_Extra Depal', '11_Bottle Supply Relief', '11_Extra Depal', '12_Bottle Supply Relief', '12_Extra Depal', '9_Pall Rlf', '9_Bottle Supply Relief', '9_Extra Depal', '10_Pall Rlf', '10_Bottle Supply Relief', '10_Pall Operator', '10_Extra Depal', '17_Extra Depal', '15_Pall Rlf', '17_Pall Operator', '17_Pall Rlf', '15_Bottle Supply Relief', '17_Bottle Supply Relief', '15_Extra Depal', '16_Bottle Supply Relief', '16_Pall Rlf', '18_Pall Rlf', '16_Pall Operator', '18_Pall Operator', '18_Extra Depal', '18_Bottle Supply Relief', '16_Extra Depal'], 22)\n",
      "'fillOutSched_v2' returned <SchedBuilderClasses.Schedule object at 0x000001F693CF38E0>\n",
      "'fillOutSched_v2' returned <SchedBuilderClasses.Schedule object at 0x000001F693CF38E0>\n",
      "'fillOutSched_v2' returned <SchedBuilderClasses.Schedule object at 0x000001F693CF38E0>\n",
      "'fillOutSched_v2' returned <SchedBuilderClasses.Schedule object at 0x000001F693CF38E0>\n",
      "'fillOutSched_v2' returned <SchedBuilderClasses.Schedule object at 0x000001F693CF38E0>\n",
      "'fillOutSched_v2' returned <SchedBuilderClasses.Schedule object at 0x000001F693CF38E0>\n",
      "'fillOutSched_v2' returned <SchedBuilderClasses.Schedule object at 0x000001F693CF38E0>\n",
      "'fillOutSched_v2' returned <SchedBuilderClasses.Schedule object at 0x000001F693CF38E0>\n",
      "'fillOutSched_v2' returned <SchedBuilderClasses.Schedule object at 0x000001F693CF38E0>\n",
      "'fillOutSched_v2' returned <SchedBuilderClasses.Schedule object at 0x000001F693CF38E0>\n",
      "'fillOutSched_v2' returned <SchedBuilderClasses.Schedule object at 0x000001F693CF38E0>\n",
      "'fillOutSched_v2' returned <SchedBuilderClasses.Schedule object at 0x000001F693CF38E0>\n",
      "'fillOutSched_v2' returned <SchedBuilderClasses.Schedule object at 0x000001F693CF38E0>\n",
      "'fillOutSched_v2' returned <SchedBuilderClasses.Schedule object at 0x000001F693CF38E0>\n",
      "'fillOutSched_v2' returned <SchedBuilderClasses.Schedule object at 0x000001F693CF38E0>\n",
      "'fillOutSched_v2' returned <SchedBuilderClasses.Schedule object at 0x000001F693CF38E0>\n",
      "'fillOutSched_v2' returned <SchedBuilderClasses.Schedule object at 0x000001F693CF38E0>\n",
      "'fillOutSched_v2' returned <SchedBuilderClasses.Schedule object at 0x000001F693CF38E0>\n",
      "'fillOutSched_v2' returned <SchedBuilderClasses.Schedule object at 0x000001F693CF38E0>\n",
      "'fillOutSched_v2' returned <SchedBuilderClasses.Schedule object at 0x000001F693CF38E0>\n",
      "'fillOutSched_v2' returned <SchedBuilderClasses.Schedule object at 0x000001F693CF38E0>\n",
      "'fillOutSched_v2' returned <SchedBuilderClasses.Schedule object at 0x000001F693CF38E0>\n",
      "'fillOutSched_v2' returned <SchedBuilderClasses.Schedule object at 0x000001F693CF38E0>\n"
     ]
    }
   ],
   "source": [
    "sch=mySched.fillOutSched_v2()"
   ]
  },
  {
   "cell_type": "code",
   "execution_count": 786,
   "metadata": {},
   "outputs": [
    {
     "ename": "ValueError",
     "evalue": "Cannot convert <bound method ee.dispNm of <SchedBuilderClasses.ee object at 0x000001F68BD69E20>> to Excel",
     "output_type": "error",
     "traceback": [
      "\u001b[1;31m---------------------------------------------------------------------------\u001b[0m",
      "\u001b[1;31mValueError\u001b[0m                                Traceback (most recent call last)",
      "\u001b[1;32mc:\\Cloned_Repositories\\HFS_Gradio_Projects\\Wknd_Sched_Builder\\SchedBuilder.ipynb Cell 7\u001b[0m in \u001b[0;36m<cell line: 1>\u001b[1;34m()\u001b[0m\n\u001b[1;32m----> <a href='vscode-notebook-cell:/c%3A/Cloned_Repositories/HFS_Gradio_Projects/Wknd_Sched_Builder/SchedBuilder.ipynb#X43sZmlsZQ%3D%3D?line=0'>1</a>\u001b[0m sch\u001b[39m.\u001b[39;49mprintToExcel()\n",
      "File \u001b[1;32mc:\\Cloned_Repositories\\HFS_Gradio_Projects\\Wknd_Sched_Builder\\SchedBuilderClasses.py:705\u001b[0m, in \u001b[0;36mSchedule.printToExcel\u001b[1;34m(self)\u001b[0m\n\u001b[0;32m    703\u001b[0m c\u001b[39m=\u001b[39m\u001b[39m0\u001b[39m\n\u001b[0;32m    704\u001b[0m \u001b[39mfor\u001b[39;00m k \u001b[39min\u001b[39;00m [k \u001b[39mfor\u001b[39;00m k \u001b[39min\u001b[39;00m \u001b[39mself\u001b[39m\u001b[39m.\u001b[39mslots \u001b[39mif\u001b[39;00m \u001b[39mself\u001b[39m\u001b[39m.\u001b[39mslots[k]\u001b[39m.\u001b[39massnType\u001b[39m==\u001b[39m\u001b[39m'\u001b[39m\u001b[39mF\u001b[39m\u001b[39m'\u001b[39m]:\n\u001b[1;32m--> 705\u001b[0m     ws3\u001b[39m.\u001b[39mcell(row\u001b[39m=\u001b[39m\u001b[39m2\u001b[39m\u001b[39m+\u001b[39mc,column\u001b[39m=\u001b[39m\u001b[39m1\u001b[39m)\u001b[39m.\u001b[39mvalue\u001b[39m=\u001b[39m\u001b[39mself\u001b[39m\u001b[39m.\u001b[39mslots[k]\u001b[39m.\u001b[39massignee\n\u001b[0;32m    706\u001b[0m     ws3\u001b[39m.\u001b[39mcell(row\u001b[39m=\u001b[39m\u001b[39m2\u001b[39m\u001b[39m+\u001b[39mc,column\u001b[39m=\u001b[39m\u001b[39m2\u001b[39m)\u001b[39m.\u001b[39mvalue\u001b[39m=\u001b[39m\u001b[39mself\u001b[39m\u001b[39m.\u001b[39mslots[k]\u001b[39m.\u001b[39mdispNm\u001b[39m+\u001b[39m\u001b[39m'\u001b[39m\u001b[39m \u001b[39m\u001b[39m'\u001b[39m\u001b[39m+\u001b[39m \u001b[39mself\u001b[39m\u001b[39m.\u001b[39mslLeg[\u001b[39mself\u001b[39m\u001b[39m.\u001b[39mslots[k]\u001b[39m.\u001b[39mseqID\u001b[39m-\u001b[39m\u001b[39m1\u001b[39m][\u001b[39m2\u001b[39m]\u001b[39m+\u001b[39m\u001b[39m'\u001b[39m\u001b[39m (\u001b[39m\u001b[39m'\u001b[39m\u001b[39m+\u001b[39m\u001b[39mself\u001b[39m\u001b[39m.\u001b[39mslLeg[\u001b[39mself\u001b[39m\u001b[39m.\u001b[39mslots[k]\u001b[39m.\u001b[39mseqID\u001b[39m-\u001b[39m\u001b[39m1\u001b[39m][\u001b[39m1\u001b[39m]\u001b[39m+\u001b[39m\u001b[39m'\u001b[39m\u001b[39m)\u001b[39m\u001b[39m'\u001b[39m\n\u001b[0;32m    707\u001b[0m \u001b[39m#=============================================\u001b[39;00m\n\u001b[0;32m    708\u001b[0m \u001b[39m#Print assignments to a separate sheet, sequenced by seniority\u001b[39;00m\n",
      "File \u001b[1;32mc:\\ProgramData\\Anaconda3\\lib\\site-packages\\openpyxl\\cell\\cell.py:215\u001b[0m, in \u001b[0;36mCell.value\u001b[1;34m(self, value)\u001b[0m\n\u001b[0;32m    212\u001b[0m \u001b[39m@value\u001b[39m\u001b[39m.\u001b[39msetter\n\u001b[0;32m    213\u001b[0m \u001b[39mdef\u001b[39;00m \u001b[39mvalue\u001b[39m(\u001b[39mself\u001b[39m, value):\n\u001b[0;32m    214\u001b[0m     \u001b[39m\"\"\"Set the value and infer type and display options.\"\"\"\u001b[39;00m\n\u001b[1;32m--> 215\u001b[0m     \u001b[39mself\u001b[39;49m\u001b[39m.\u001b[39;49m_bind_value(value)\n",
      "File \u001b[1;32mc:\\ProgramData\\Anaconda3\\lib\\site-packages\\openpyxl\\cell\\cell.py:184\u001b[0m, in \u001b[0;36mCell._bind_value\u001b[1;34m(self, value)\u001b[0m\n\u001b[0;32m    181\u001b[0m     dt \u001b[39m=\u001b[39m get_type(t, value)\n\u001b[0;32m    183\u001b[0m \u001b[39mif\u001b[39;00m dt \u001b[39mis\u001b[39;00m \u001b[39mNone\u001b[39;00m \u001b[39mand\u001b[39;00m value \u001b[39mis\u001b[39;00m \u001b[39mnot\u001b[39;00m \u001b[39mNone\u001b[39;00m:\n\u001b[1;32m--> 184\u001b[0m     \u001b[39mraise\u001b[39;00m \u001b[39mValueError\u001b[39;00m(\u001b[39m\"\u001b[39m\u001b[39mCannot convert \u001b[39m\u001b[39m{0!r}\u001b[39;00m\u001b[39m to Excel\u001b[39m\u001b[39m\"\u001b[39m\u001b[39m.\u001b[39mformat(value))\n\u001b[0;32m    186\u001b[0m \u001b[39mif\u001b[39;00m dt:\n\u001b[0;32m    187\u001b[0m     \u001b[39mself\u001b[39m\u001b[39m.\u001b[39mdata_type \u001b[39m=\u001b[39m dt\n",
      "\u001b[1;31mValueError\u001b[0m: Cannot convert <bound method ee.dispNm of <SchedBuilderClasses.ee object at 0x000001F68BD69E20>> to Excel"
     ]
    }
   ],
   "source": [
    "sch.printToExcel()"
   ]
  },
  {
   "cell_type": "code",
   "execution_count": 614,
   "metadata": {},
   "outputs": [
    {
     "data": {
      "text/plain": [
       "['Iteration: 1 ||  Starting Schedule With Identified Priority Slots, Forcing As Necessary:',\n",
       " 'Prelim Priority Assignment Sequence:  9_Labeler 10_Labeler 11_Labeler 12_Labeler',\n",
       " 'Looking to Force to Labeler Sat 7a-11a',\n",
       " '   FORCED Assignment: W. ADDLEY to Labeler 7a-11a (Sat)',\n",
       " 'Looking to Force to Labeler Sat 11a-3p',\n",
       " '   Fail to assign W. ADDLEY to Labeler Sat 11a-3p || Cannot force past 48 hours worked in week',\n",
       " '   FORCED Assignment: K. ADCOCK to Labeler 11a-3p (Sat)',\n",
       " 'The last assignment resulted in 1 or more other slots having no more eligible volunteers. Those slots are added to the list of slots to force at the start, and a new schedule will be made with updated list of slots to Force',\n",
       " 'Iteration: 1 ||  Starting Schedule With Identified Priority Slots, Forcing As Necessary:',\n",
       " 'Prelim Priority Assignment Sequence:  9_Labeler 10_Labeler 11_Labeler 12_Labeler',\n",
       " 'Looking to Force to Labeler Sat 7a-11a',\n",
       " '   FORCED Assignment: W. ADDLEY to Labeler 7a-11a (Sat)',\n",
       " 'Looking to Force to Labeler Sat 11a-3p',\n",
       " '   Fail to assign W. ADDLEY to Labeler Sat 11a-3p || Cannot force past 48 hours worked in week',\n",
       " '   FORCED Assignment: K. ADCOCK to Labeler 11a-3p (Sat)',\n",
       " 'The last assignment resulted in 1 or more other slots having no more eligible volunteers. Those slots are added to the list of slots to force at the start, and a new schedule will be made with updated list of slots to Force',\n",
       " 'Iteration: 2 ||  Starting Schedule With Identified Priority Slots, Forcing As Necessary:',\n",
       " 'Prelim Priority Assignment Sequence:  8_Labeler 9_Labeler 10_Labeler 11_Labeler 12_Labeler',\n",
       " 'Looking to Force to Labeler Sat 3a-7a',\n",
       " '   Voluntary Assignment: K. ADCOCK to Labeler 3a-7a (Sat)',\n",
       " 'Looking to Force to Labeler Sat 7a-11a',\n",
       " '   FORCED Assignment: W. ADDLEY to Labeler 7a-11a (Sat)',\n",
       " 'Looking to Force to Labeler Sat 11a-3p',\n",
       " '   Fail to assign W. ADDLEY to Labeler Sat 11a-3p || Cannot force past 48 hours worked in week',\n",
       " '   Fail to assign K. ADCOCK to Labeler Sat 11a-3p || Insufficient gap time between this shift and another',\n",
       " 'Looking to Force to Labeler Sat 3p-7p',\n",
       " '   Fail to assign W. ADDLEY to Labeler Sat 3p-7p || Insufficient gap time between this shift and another',\n",
       " '   Fail to assign K. ADCOCK to Labeler Sat 3p-7p || Insufficient gap time between this shift and another',\n",
       " 'Looking to Force to Labeler Sat 7p-11p',\n",
       " '   Fail to assign W. ADDLEY to Labeler Sat 7p-11p || Insufficient gap time between this shift and another',\n",
       " '   FORCED Assignment: K. ADCOCK to Labeler 7p-11p (Sat)',\n",
       " 'The last assignment resulted in 1 or more other slots having no more eligible volunteers. Those slots are added to the list of slots to force at the start, and a new schedule will be made with updated list of slots to Force',\n",
       " 'Iteration: 4 ||  Starting Schedule With Identified Priority Slots, Forcing As Necessary:',\n",
       " 'Prelim Priority Assignment Sequence:  7_Labeler 8_Labeler 9_Labeler 10_Labeler 11_Labeler 12_Labeler 14_Labeler',\n",
       " 'Looking to Force to Labeler Sat 11p(Fri)-3a(Sat)',\n",
       " '   Voluntary Assignment: K. ADCOCK to Labeler 11p(Fri)-3a(Sat) (Sat)',\n",
       " 'Looking to Force to Labeler Sat 3a-7a',\n",
       " '   Voluntary Assignment: K. ADCOCK to Labeler 3a-7a (Sat)',\n",
       " 'Looking to Force to Labeler Sat 7a-11a',\n",
       " '   FORCED Assignment: W. ADDLEY to Labeler 7a-11a (Sat)',\n",
       " 'Looking to Force to Labeler Sat 11a-3p',\n",
       " '   Fail to assign W. ADDLEY to Labeler Sat 11a-3p || Cannot force past 48 hours worked in week',\n",
       " '   Fail to assign K. ADCOCK to Labeler Sat 11a-3p || Insufficient gap time between this shift and another',\n",
       " 'Looking to Force to Labeler Sat 3p-7p',\n",
       " '   Fail to assign W. ADDLEY to Labeler Sat 3p-7p || Insufficient gap time between this shift and another',\n",
       " '   Fail to assign K. ADCOCK to Labeler Sat 3p-7p || Insufficient gap time between this shift and another',\n",
       " 'Looking to Force to Labeler Sat 7p-11p',\n",
       " '   Fail to assign W. ADDLEY to Labeler Sat 7p-11p || Insufficient gap time between this shift and another',\n",
       " '   Fail to assign K. ADCOCK to Labeler Sat 7p-11p || Cannot force past 48 hours worked in week',\n",
       " 'Looking to Force to Labeler Sun 3a-7a',\n",
       " '   Voluntary Assignment: K. ADCOCK to Labeler 3a-7a (Sun)',\n",
       " 'Second Phase Assignments (Sequence by Most Constrained): 0 | OldToAssn: 13_Labeler',\n",
       " '13_Labeler (assnType: None) chosen as most constrained, had least (1) eligible volunteers',\n",
       " 'Looking to voluntarily assign to Labeler Sun 11p(Sat)-3a(Sun)',\n",
       " '   Voluntary Assignment: K. ADCOCK to Labeler 11p(Sat)-3a(Sun) (Sun)']"
      ]
     },
     "execution_count": 614,
     "metadata": {},
     "output_type": "execute_result"
    }
   ],
   "source": [
    "sch.assnLog"
   ]
  },
  {
   "cell_type": "code",
   "execution_count": 426,
   "metadata": {},
   "outputs": [
    {
     "data": {
      "text/plain": [
       "([[7096688], [7096688], [], [], [], [], [7096688], [7096688]],\n",
       " ['9_Labeler', '10_Labeler', '11_Labeler', '12_Labeler'])"
      ]
     },
     "execution_count": 426,
     "metadata": {},
     "output_type": "execute_result"
    }
   ],
   "source": [
    "([mySched.slots[k].eligVol for k in mySched.slots],[k for k in mySched.slots if len(mySched.slots[k].eligVol)==0 ])"
   ]
  },
  {
   "cell_type": "code",
   "execution_count": 529,
   "metadata": {},
   "outputs": [
    {
     "name": "stdout",
     "output_type": "stream",
     "text": [
      "Calling fillOutSched_v2(<SchedBuilderClasses.Schedule object at 0x000001F686CEE850>, ['9_Labeler', '10_Labeler', '11_Labeler', '12_Labeler', '8_Labeler', '14_Labeler', '7_Labeler'], 1)\n",
      "'fillOutSched_v2' returned (<SchedBuilderClasses.Schedule object at 0x000001F6918FB730>, 'WIN')\n"
     ]
    }
   ],
   "source": [
    "sch,i=mySched.fillOutSched_v2(sch.noVol,1) #Loops until identified all forcings that had to be made initially"
   ]
  },
  {
   "cell_type": "code",
   "execution_count": 526,
   "metadata": {},
   "outputs": [
    {
     "data": {
      "text/plain": [
       "('P-Bump',\n",
       " [None, None, 7104292, 7096688, None, None, None, None],\n",
       " [None, None, 'F', 'F', None, None, None, None],\n",
       " [[7096688], [], [], [], [], [], [7096688], [7096688]],\n",
       " ['8_Labeler', '9_Labeler', '10_Labeler', '11_Labeler', '12_Labeler'])"
      ]
     },
     "execution_count": 526,
     "metadata": {},
     "output_type": "execute_result"
    }
   ],
   "source": [
    "srt=sorted(sch.slots,key=lambda k:int(k[:k.index('_')]))\n",
    "(i,[sch.slots[k].assignee for k in srt],[sch.slots[k].assnType for k in srt],[sch.slots[k].eligVol for k in srt],sorted(sch.noVol,key=lambda k:int(k[:k.index('_')])))\n"
   ]
  },
  {
   "cell_type": "code",
   "execution_count": 499,
   "metadata": {},
   "outputs": [
    {
     "data": {
      "text/plain": [
       "('P-Bump',\n",
       " [None, 7096688, 7104292, None, None, 7096688, None, None],\n",
       " [None, 'V', 'F', 'N', 'N', 'F', None, None],\n",
       " [[7096688], [], [], [], [], [], [7096688], []],\n",
       " ['8_Labeler',\n",
       "  '9_Labeler',\n",
       "  '10_Labeler',\n",
       "  '11_Labeler',\n",
       "  '12_Labeler',\n",
       "  '14_Labeler'])"
      ]
     },
     "execution_count": 499,
     "metadata": {},
     "output_type": "execute_result"
    }
   ],
   "source": [
    "srt=sorted(sch.slots,key=lambda k:int(k[:k.index('_')]))\n",
    "(i,[sch.slots[k].assignee for k in srt],[sch.slots[k].assnType for k in srt],[sch.slots[k].eligVol for k in srt],sorted(sch.noVol,key=lambda k:int(k[:k.index('_')])))\n"
   ]
  },
  {
   "cell_type": "code",
   "execution_count": 501,
   "metadata": {},
   "outputs": [
    {
     "data": {
      "text/plain": [
       "('V-F Rule',\n",
       " [7096688, 7096688, 7104292, None, None, 7096688, None, None],\n",
       " ['V', 'V', 'F', 'N', 'N', 'F', None, 'N'],\n",
       " [[], [], [], [], [], [], [7096688], []],\n",
       " ['8_Labeler',\n",
       "  '9_Labeler',\n",
       "  '10_Labeler',\n",
       "  '11_Labeler',\n",
       "  '12_Labeler',\n",
       "  '14_Labeler',\n",
       "  '14_Labeler'])"
      ]
     },
     "execution_count": 501,
     "metadata": {},
     "output_type": "execute_result"
    }
   ],
   "source": [
    "srt=sorted(sch.slots,key=lambda k:int(k[:k.index('_')]))\n",
    "(i,[sch.slots[k].assignee for k in srt],[sch.slots[k].assnType for k in srt],[sch.slots[k].eligVol for k in srt],sorted(sch.noVol,key=lambda k:int(k[:k.index('_')])))\n"
   ]
  },
  {
   "cell_type": "code",
   "execution_count": 530,
   "metadata": {},
   "outputs": [],
   "source": [
    "sch.printToExcel()"
   ]
  },
  {
   "cell_type": "code",
   "execution_count": 531,
   "metadata": {},
   "outputs": [
    {
     "data": {
      "text/plain": [
       "['iteer: 1',\n",
       " 'iteer: 1',\n",
       " 'Iteration: 1 |  Starting Schedule With Forcings:',\n",
       " 'Iteration:  9_Labeler 10_Labeler 11_Labeler 12_Labeler',\n",
       " 'Looking to Force to Labeler Sat 7a-11a',\n",
       " '   FORCED Assignment: W. ADDLEY to Labeler 7a-11a (Sat)',\n",
       " 'Looking to Force to Labeler Sat 11a-3p',\n",
       " '   Fail to assign W. ADDLEY to Labeler Sat 11a-3p || Cannot force past 48 hours worked in week',\n",
       " '   FORCED Assignment: K. ADCOCK to Labeler 11a-3p (Sat)',\n",
       " 'The last assignment resulted in 1 or more other slots having no more eligible volunteers. Those slots are added to the list of slots to force at the start, and a new schedule will be made with updated list of slots to Force',\n",
       " 'iteer: 2',\n",
       " 'iteer: 1',\n",
       " 'iteer: 1',\n",
       " 'Iteration: 1 |  Starting Schedule With Forcings:',\n",
       " 'Iteration:  9_Labeler 10_Labeler 11_Labeler 12_Labeler',\n",
       " 'Looking to Force to Labeler Sat 7a-11a',\n",
       " '   FORCED Assignment: W. ADDLEY to Labeler 7a-11a (Sat)',\n",
       " 'Looking to Force to Labeler Sat 11a-3p',\n",
       " '   Fail to assign W. ADDLEY to Labeler Sat 11a-3p || Cannot force past 48 hours worked in week',\n",
       " '   FORCED Assignment: K. ADCOCK to Labeler 11a-3p (Sat)',\n",
       " 'The last assignment resulted in 1 or more other slots having no more eligible volunteers. Those slots are added to the list of slots to force at the start, and a new schedule will be made with updated list of slots to Force',\n",
       " 'iteer: 2',\n",
       " 'Iteration: 2 |  Starting Schedule With Forcings:',\n",
       " 'Iteration:  9_Labeler 10_Labeler 11_Labeler 12_Labeler 8_Labeler',\n",
       " 'Looking to Force to Labeler Sat 3a-7a',\n",
       " '   Voluntary Assignment: K. ADCOCK to Labeler 3a-7a (Sat)',\n",
       " 'Looking to Force to Labeler Sat 7a-11a',\n",
       " '   FORCED Assignment: W. ADDLEY to Labeler 7a-11a (Sat)',\n",
       " 'Looking to Force to Labeler Sat 11a-3p',\n",
       " '   Fail to assign W. ADDLEY to Labeler Sat 11a-3p || Cannot force past 48 hours worked in week',\n",
       " '   Fail to assign K. ADCOCK to Labeler Sat 11a-3p || Insufficient gap time between this shift and another',\n",
       " 'Looking to Force to Labeler Sat 3p-7p',\n",
       " '   Fail to assign W. ADDLEY to Labeler Sat 3p-7p || Insufficient gap time between this shift and another',\n",
       " '   Fail to assign K. ADCOCK to Labeler Sat 3p-7p || Insufficient gap time between this shift and another',\n",
       " 'Looking to Force to Labeler Sat 7p-11p',\n",
       " '   Fail to assign W. ADDLEY to Labeler Sat 7p-11p || Insufficient gap time between this shift and another',\n",
       " '   FORCED Assignment: K. ADCOCK to Labeler 7p-11p (Sat)',\n",
       " 'The last assignment resulted in 1 or more other slots having no more eligible volunteers. Those slots are added to the list of slots to force at the start, and a new schedule will be made with updated list of slots to Force',\n",
       " 'iteer: 2',\n",
       " 'iteer: 2',\n",
       " 'Iteration: 2 |  Starting Schedule With Forcings:',\n",
       " 'Iteration:  9_Labeler 10_Labeler 11_Labeler 12_Labeler 8_Labeler 14_Labeler 7_Labeler',\n",
       " 'Looking to Force to Labeler Sat 11p(Fri)-3a(Sat)',\n",
       " '   Voluntary Assignment: K. ADCOCK to Labeler 11p(Fri)-3a(Sat) (Sat)',\n",
       " 'Looking to Force to Labeler Sat 3a-7a',\n",
       " '   Voluntary Assignment: K. ADCOCK to Labeler 3a-7a (Sat)',\n",
       " 'Looking to Force to Labeler Sat 7a-11a',\n",
       " '   FORCED Assignment: W. ADDLEY to Labeler 7a-11a (Sat)',\n",
       " 'Looking to Force to Labeler Sat 11a-3p',\n",
       " '   Fail to assign W. ADDLEY to Labeler Sat 11a-3p || Cannot force past 48 hours worked in week',\n",
       " '   Fail to assign K. ADCOCK to Labeler Sat 11a-3p || Insufficient gap time between this shift and another',\n",
       " 'Looking to Force to Labeler Sat 3p-7p',\n",
       " '   Fail to assign W. ADDLEY to Labeler Sat 3p-7p || Insufficient gap time between this shift and another',\n",
       " '   Fail to assign K. ADCOCK to Labeler Sat 3p-7p || Insufficient gap time between this shift and another',\n",
       " 'Looking to Force to Labeler Sat 7p-11p',\n",
       " '   Fail to assign W. ADDLEY to Labeler Sat 7p-11p || Insufficient gap time between this shift and another',\n",
       " '   Fail to assign K. ADCOCK to Labeler Sat 7p-11p || Cannot force past 48 hours worked in week',\n",
       " 'Looking to Force to Labeler Sun 3a-7a',\n",
       " '   Voluntary Assignment: K. ADCOCK to Labeler 3a-7a (Sun)',\n",
       " 'Iter: 0 | OldToAssn: 13_Labeler  | NewToAssn: 13_Labeler',\n",
       " '13_Labeler with assnType: None chosen as most constrained, had least (1) eligible volunteers',\n",
       " 'Looking to voluntarily assign to Labeler Sun 11p(Sat)-3a(Sun)',\n",
       " '   Voluntary Assignment: K. ADCOCK to Labeler 11p(Sat)-3a(Sun) (Sun)']"
      ]
     },
     "execution_count": 531,
     "metadata": {},
     "output_type": "execute_result"
    }
   ],
   "source": [
    "sch.assnLog"
   ]
  },
  {
   "cell_type": "code",
   "execution_count": 438,
   "metadata": {},
   "outputs": [],
   "source": [
    "mySched.fillOutSched()"
   ]
  },
  {
   "cell_type": "code",
   "execution_count": 440,
   "metadata": {},
   "outputs": [],
   "source": [
    "mySched.printToExcel()"
   ]
  },
  {
   "cell_type": "code",
   "execution_count": null,
   "metadata": {},
   "outputs": [],
   "source": []
  }
 ],
 "metadata": {
  "kernelspec": {
   "display_name": "Python 3.9.12 ('base')",
   "language": "python",
   "name": "python3"
  },
  "language_info": {
   "codemirror_mode": {
    "name": "ipython",
    "version": 3
   },
   "file_extension": ".py",
   "mimetype": "text/x-python",
   "name": "python",
   "nbconvert_exporter": "python",
   "pygments_lexer": "ipython3",
   "version": "3.9.12"
  },
  "orig_nbformat": 4,
  "vscode": {
   "interpreter": {
    "hash": "ad2bdc8ecc057115af97d19610ffacc2b4e99fae6737bb82f5d7fb13d2f2c186"
   }
  }
 },
 "nbformat": 4,
 "nbformat_minor": 2
}
