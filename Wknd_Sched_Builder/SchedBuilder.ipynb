{
 "cells": [
  {
   "cell_type": "code",
   "execution_count": 137,
   "metadata": {},
   "outputs": [],
   "source": [
    "import SchedBuilderUtyModule as tls\n",
    "import SchedBuilderClasses as cls\n",
    "import openpyxl as pyxl\n",
    "import pandas as pd\n",
    "import numpy as np\n",
    "from copy import deepcopy"
   ]
  },
  {
   "cell_type": "code",
   "execution_count": 139,
   "metadata": {},
   "outputs": [
    {
     "data": {
      "text/plain": [
       "<module 'SchedBuilderClasses' from 'c:\\\\Cloned_Repositories\\\\HFS_Gradio_Projects\\\\Wknd_Sched_Builder\\\\SchedBuilderClasses.py'>"
      ]
     },
     "execution_count": 139,
     "metadata": {},
     "output_type": "execute_result"
    }
   ],
   "source": [
    "from importlib import reload\n",
    "reload(tls)\n",
    "reload(cls)"
   ]
  },
  {
   "cell_type": "code",
   "execution_count": 374,
   "metadata": {},
   "outputs": [],
   "source": [
    "Acrew='Blue'\n",
    "wkHrs=40\n",
    "mySched=tls.preProcessData(Acrew,wkHrs,'ValuesFTRefusal.xlsm','ValuesTempRefusal.xlsm','AssignmentList.xlsx','Long Weekend Polling.xlsx')"
   ]
  },
  {
   "cell_type": "code",
   "execution_count": 610,
   "metadata": {},
   "outputs": [],
   "source": [
    "Acrew='Blue'\n",
    "wkHrs=40 #if 5 day week, 40, if 4 day week should be 32\n",
    "mySched=tls.preProcessData(Acrew,wkHrs,'SampFT.xlsm','SampTemp.xlsm','AssignmentList.xlsx','SampPoll.xlsx',pNT=False)"
   ]
  },
  {
   "cell_type": "code",
   "execution_count": 140,
   "metadata": {},
   "outputs": [],
   "source": [
    "assnWWF=True\n",
    "Acrew='Bud'\n",
    "wkHrs=40 #if 5 day week, 40, if 4 day week should be 32\n",
    "mySched=tls.preProcessData(Acrew,wkHrs,'sep24_FTvo.xlsm','sep24_TvalsOnly.xlsm','sep24_Assn.xlsx','sep24_Poll.xlsx',pNT=False,assnWWF=assnWWF)"
   ]
  },
  {
   "cell_type": "code",
   "execution_count": 116,
   "metadata": {},
   "outputs": [],
   "source": [
    "mySched.evalAssnList()\n",
    "mySched.proofEligVol()"
   ]
  },
  {
   "cell_type": "code",
   "execution_count": 121,
   "metadata": {},
   "outputs": [],
   "source": [
    "sch=mySched.fillOutSched_v3()"
   ]
  },
  {
   "cell_type": "code",
   "execution_count": 146,
   "metadata": {},
   "outputs": [
    {
     "data": {
      "text/plain": [
       "[1,\n",
       " 1,\n",
       " 1,\n",
       " 1,\n",
       " 1,\n",
       " 1,\n",
       " 1,\n",
       " 1,\n",
       " 1,\n",
       " 1,\n",
       " 1,\n",
       " 1,\n",
       " 1,\n",
       " 1,\n",
       " 1,\n",
       " 1,\n",
       " 1,\n",
       " 1,\n",
       " 1,\n",
       " 1,\n",
       " 1,\n",
       " 1,\n",
       " 1,\n",
       " 1,\n",
       " 1,\n",
       " 1,\n",
       " 1,\n",
       " 1,\n",
       " 2,\n",
       " 2,\n",
       " 2,\n",
       " 2,\n",
       " 2,\n",
       " 2,\n",
       " 2,\n",
       " 2,\n",
       " 2,\n",
       " 2,\n",
       " 2,\n",
       " 2,\n",
       " 2,\n",
       " 2,\n",
       " 2,\n",
       " 2,\n",
       " 2,\n",
       " 2,\n",
       " 2,\n",
       " 2,\n",
       " 2,\n",
       " 2,\n",
       " 2,\n",
       " 2,\n",
       " 2,\n",
       " 2,\n",
       " 2,\n",
       " 2,\n",
       " 2,\n",
       " 2,\n",
       " 2,\n",
       " 2,\n",
       " 2,\n",
       " 2,\n",
       " 2,\n",
       " 2,\n",
       " 2,\n",
       " 2,\n",
       " 2,\n",
       " 2,\n",
       " 3,\n",
       " 3,\n",
       " 3,\n",
       " 3,\n",
       " 3,\n",
       " 3,\n",
       " 3,\n",
       " 3,\n",
       " 3,\n",
       " 3,\n",
       " 3,\n",
       " 3,\n",
       " 3,\n",
       " 3,\n",
       " 3,\n",
       " 3,\n",
       " 3,\n",
       " 3,\n",
       " 3,\n",
       " 3,\n",
       " 3,\n",
       " 3,\n",
       " 3,\n",
       " 3,\n",
       " 4,\n",
       " 4,\n",
       " 4,\n",
       " 4,\n",
       " 4,\n",
       " 4,\n",
       " 4,\n",
       " 4,\n",
       " 4,\n",
       " 4,\n",
       " 4,\n",
       " 4,\n",
       " 4,\n",
       " 4,\n",
       " 4,\n",
       " 4,\n",
       " 4,\n",
       " 4,\n",
       " 4,\n",
       " 4,\n",
       " 5,\n",
       " 5,\n",
       " 5,\n",
       " 5,\n",
       " 5,\n",
       " 5,\n",
       " 5,\n",
       " 5,\n",
       " 5,\n",
       " 5,\n",
       " 6,\n",
       " 6,\n",
       " 6,\n",
       " 6,\n",
       " 6,\n",
       " 6,\n",
       " 6,\n",
       " 6,\n",
       " 7,\n",
       " 7,\n",
       " 7,\n",
       " 7,\n",
       " 7,\n",
       " 7,\n",
       " 7,\n",
       " 7,\n",
       " 7,\n",
       " 7,\n",
       " 7,\n",
       " 7,\n",
       " 7,\n",
       " 7,\n",
       " 7,\n",
       " 7,\n",
       " 7,\n",
       " 7,\n",
       " 7,\n",
       " 7,\n",
       " 8,\n",
       " 8,\n",
       " 8,\n",
       " 8,\n",
       " 8,\n",
       " 8,\n",
       " 8,\n",
       " 8,\n",
       " 8,\n",
       " 8,\n",
       " 8,\n",
       " 8,\n",
       " 8,\n",
       " 8,\n",
       " 8,\n",
       " 8,\n",
       " 8,\n",
       " 8,\n",
       " 10,\n",
       " 10,\n",
       " 10,\n",
       " 10,\n",
       " 11,\n",
       " 11,\n",
       " 11,\n",
       " 11,\n",
       " 15,\n",
       " 15,\n",
       " 15,\n",
       " 15,\n",
       " 15,\n",
       " 15,\n",
       " 15,\n",
       " 15,\n",
       " 15,\n",
       " 15,\n",
       " 15,\n",
       " 15,\n",
       " 15,\n",
       " 15,\n",
       " 15,\n",
       " 15,\n",
       " 15,\n",
       " 15,\n",
       " 15,\n",
       " 15,\n",
       " 15,\n",
       " 15,\n",
       " 15,\n",
       " 15,\n",
       " 15,\n",
       " 15,\n",
       " 15,\n",
       " 15,\n",
       " 18,\n",
       " 18,\n",
       " 18,\n",
       " 18,\n",
       " 20,\n",
       " 20,\n",
       " 20,\n",
       " 20,\n",
       " 20,\n",
       " 20,\n",
       " 20,\n",
       " 20,\n",
       " 20,\n",
       " 20,\n",
       " 20,\n",
       " 20,\n",
       " 20,\n",
       " 20,\n",
       " 23,\n",
       " 23,\n",
       " 23,\n",
       " 23,\n",
       " 25,\n",
       " 25,\n",
       " 25,\n",
       " 25,\n",
       " 25,\n",
       " 25,\n",
       " 25,\n",
       " 25,\n",
       " 25,\n",
       " 25,\n",
       " 25,\n",
       " 25,\n",
       " 25,\n",
       " 25,\n",
       " 25,\n",
       " 25,\n",
       " 25,\n",
       " 25,\n",
       " 31,\n",
       " 31,\n",
       " 31,\n",
       " 31,\n",
       " 33,\n",
       " 33,\n",
       " 33,\n",
       " 33,\n",
       " 33,\n",
       " 33,\n",
       " 33,\n",
       " 33,\n",
       " 33,\n",
       " 33,\n",
       " 33,\n",
       " 33,\n",
       " 33,\n",
       " 33,\n",
       " 42,\n",
       " 42,\n",
       " 42,\n",
       " 42,\n",
       " 49,\n",
       " 49,\n",
       " 49,\n",
       " 49]"
      ]
     },
     "execution_count": 146,
     "metadata": {},
     "output_type": "execute_result"
    }
   ],
   "source": [
    "sorted([s for s in mySched.slots if (len(mySched.slots[s].eligVol)>0) and (mySched.slots[s].assnType not in ['WWF','F','V','nV','DNS','N']) and (str(19)==s[:s.index('_')]) ],key=lambda k: len(mySched.slots[k].eligVol))\n",
    "sorted([s for s in mySched.slots if (len(mySched.slots[s].eligVol)>0) and (mySched.slots[s].assnType not in ['WWF','F','V','nV','DNS','N'])], key=lambda k: len(mySched.slots[k].eligVol))"
   ]
  },
  {
   "cell_type": "code",
   "execution_count": null,
   "metadata": {},
   "outputs": [],
   "source": [
    "sch.printToExcel()"
   ]
  },
  {
   "cell_type": "code",
   "execution_count": null,
   "metadata": {},
   "outputs": [],
   "source": [
    "sch.assnLog[1850:]"
   ]
  },
  {
   "cell_type": "code",
   "execution_count": null,
   "metadata": {},
   "outputs": [],
   "source": [
    "([mySched.slots[k].eligVol for k in mySched.slots],[k for k in mySched.slots if len(mySched.slots[k].eligVol)==0 ])"
   ]
  },
  {
   "cell_type": "code",
   "execution_count": 529,
   "metadata": {},
   "outputs": [
    {
     "name": "stdout",
     "output_type": "stream",
     "text": [
      "Calling fillOutSched_v2(<SchedBuilderClasses.Schedule object at 0x000001F686CEE850>, ['9_Labeler', '10_Labeler', '11_Labeler', '12_Labeler', '8_Labeler', '14_Labeler', '7_Labeler'], 1)\n",
      "'fillOutSched_v2' returned (<SchedBuilderClasses.Schedule object at 0x000001F6918FB730>, 'WIN')\n"
     ]
    }
   ],
   "source": [
    "sch,i=mySched.fillOutSched_v2(sch.noVol,1) #Loops until identified all forcings that had to be made initially"
   ]
  },
  {
   "cell_type": "code",
   "execution_count": 526,
   "metadata": {},
   "outputs": [
    {
     "data": {
      "text/plain": [
       "('P-Bump',\n",
       " [None, None, 7104292, 7096688, None, None, None, None],\n",
       " [None, None, 'F', 'F', None, None, None, None],\n",
       " [[7096688], [], [], [], [], [], [7096688], [7096688]],\n",
       " ['8_Labeler', '9_Labeler', '10_Labeler', '11_Labeler', '12_Labeler'])"
      ]
     },
     "execution_count": 526,
     "metadata": {},
     "output_type": "execute_result"
    }
   ],
   "source": [
    "srt=sorted(sch.slots,key=lambda k:int(k[:k.index('_')]))\n",
    "(i,[sch.slots[k].assignee for k in srt],[sch.slots[k].assnType for k in srt],[sch.slots[k].eligVol for k in srt],sorted(sch.noVol,key=lambda k:int(k[:k.index('_')])))\n"
   ]
  },
  {
   "cell_type": "code",
   "execution_count": 499,
   "metadata": {},
   "outputs": [
    {
     "data": {
      "text/plain": [
       "('P-Bump',\n",
       " [None, 7096688, 7104292, None, None, 7096688, None, None],\n",
       " [None, 'V', 'F', 'N', 'N', 'F', None, None],\n",
       " [[7096688], [], [], [], [], [], [7096688], []],\n",
       " ['8_Labeler',\n",
       "  '9_Labeler',\n",
       "  '10_Labeler',\n",
       "  '11_Labeler',\n",
       "  '12_Labeler',\n",
       "  '14_Labeler'])"
      ]
     },
     "execution_count": 499,
     "metadata": {},
     "output_type": "execute_result"
    }
   ],
   "source": [
    "srt=sorted(sch.slots,key=lambda k:int(k[:k.index('_')]))\n",
    "(i,[sch.slots[k].assignee for k in srt],[sch.slots[k].assnType for k in srt],[sch.slots[k].eligVol for k in srt],sorted(sch.noVol,key=lambda k:int(k[:k.index('_')])))\n"
   ]
  },
  {
   "cell_type": "code",
   "execution_count": null,
   "metadata": {},
   "outputs": [],
   "source": [
    "srt=sorted(sch.slots,key=lambda k:int(k[:k.index('_')]))\n",
    "(i,[sch.slots[k].assignee for k in srt],[sch.slots[k].assnType for k in srt],[sch.slots[k].eligVol for k in srt],sorted(sch.noVol,key=lambda k:int(k[:k.index('_')])))\n"
   ]
  },
  {
   "cell_type": "code",
   "execution_count": 530,
   "metadata": {},
   "outputs": [],
   "source": [
    "sch.printToExcel()"
   ]
  },
  {
   "cell_type": "code",
   "execution_count": null,
   "metadata": {},
   "outputs": [],
   "source": [
    "sch.assnLog"
   ]
  },
  {
   "cell_type": "code",
   "execution_count": 438,
   "metadata": {},
   "outputs": [],
   "source": [
    "mySched.fillOutSched()"
   ]
  },
  {
   "cell_type": "code",
   "execution_count": 440,
   "metadata": {},
   "outputs": [],
   "source": [
    "mySched.printToExcel()"
   ]
  }
 ],
 "metadata": {
  "kernelspec": {
   "display_name": "Python 3.9.12 ('base')",
   "language": "python",
   "name": "python3"
  },
  "language_info": {
   "codemirror_mode": {
    "name": "ipython",
    "version": 3
   },
   "file_extension": ".py",
   "mimetype": "text/x-python",
   "name": "python",
   "nbconvert_exporter": "python",
   "pygments_lexer": "ipython3",
   "version": "3.9.12"
  },
  "orig_nbformat": 4,
  "vscode": {
   "interpreter": {
    "hash": "ad2bdc8ecc057115af97d19610ffacc2b4e99fae6737bb82f5d7fb13d2f2c186"
   }
  }
 },
 "nbformat": 4,
 "nbformat_minor": 2
}
