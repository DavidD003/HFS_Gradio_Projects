{
 "cells": [
  {
   "cell_type": "code",
   "execution_count": 1,
   "metadata": {},
   "outputs": [],
   "source": [
    "import SchedBuilderUtyModule as tls\n",
    "import SchedBuilderClasses as cls\n",
    "import openpyxl as pyxl\n",
    "import pandas as pd\n",
    "import numpy as np\n",
    "from copy import deepcopy"
   ]
  },
  {
   "cell_type": "code",
   "execution_count": 20,
   "metadata": {},
   "outputs": [
    {
     "data": {
      "text/plain": [
       "<module 'SchedBuilderClasses' from 'c:\\\\Cloned_Repositories\\\\HFS_Gradio_Projects\\\\Wknd_Sched_Builder\\\\SchedBuilderClasses.py'>"
      ]
     },
     "execution_count": 20,
     "metadata": {},
     "output_type": "execute_result"
    }
   ],
   "source": [
    "from importlib import reload\n",
    "reload(tls)\n",
    "reload(cls)"
   ]
  },
  {
   "cell_type": "code",
   "execution_count": 35,
   "metadata": {},
   "outputs": [],
   "source": [
    "eeDict, openSlots, AssignmentsTbl,slot_Legend,pollDict,senList=tls.preProcessData('ValuesFTRefusal.xlsm','ValuesTempRefusal.xlsm','AssignmentList.xlsx','Long Weekend Polling.xlsx')"
   ]
  },
  {
   "cell_type": "code",
   "execution_count": 11,
   "metadata": {},
   "outputs": [
    {
     "name": "stderr",
     "output_type": "stream",
     "text": [
      "c:\\Cloned_Repositories\\HFS_Gradio_Projects\\Wknd_Sched_Builder\\SchedBuilderUtyModule.py:24: FutureWarning: elementwise comparison failed; returning scalar instead, but in the future will perform elementwise comparison\n",
      "  if data!=[]:\n"
     ]
    }
   ],
   "source": [
    "mySched=tls.preProcessData('ValuesFTRefusal.xlsm','ValuesTempRefusal.xlsm','AssignmentList.xlsx','Long Weekend Polling.xlsx')"
   ]
  },
  {
   "cell_type": "code",
   "execution_count": 21,
   "metadata": {},
   "outputs": [
    {
     "ename": "AttributeError",
     "evalue": "'Schedule' object has no attribute 'evalAssnList'",
     "output_type": "error",
     "traceback": [
      "\u001b[1;31m---------------------------------------------------------------------------\u001b[0m",
      "\u001b[1;31mAttributeError\u001b[0m                            Traceback (most recent call last)",
      "\u001b[1;32mc:\\Cloned_Repositories\\HFS_Gradio_Projects\\Wknd_Sched_Builder\\SchedBuilder.ipynb Cell 5\u001b[0m in \u001b[0;36m<cell line: 1>\u001b[1;34m()\u001b[0m\n\u001b[1;32m----> <a href='vscode-notebook-cell:/c%3A/Cloned_Repositories/HFS_Gradio_Projects/Wknd_Sched_Builder/SchedBuilder.ipynb#X13sZmlsZQ%3D%3D?line=0'>1</a>\u001b[0m mySched\u001b[39m.\u001b[39;49mevalAssnList()\n",
      "\u001b[1;31mAttributeError\u001b[0m: 'Schedule' object has no attribute 'evalAssnList'"
     ]
    }
   ],
   "source": [
    "mySched.evalAssnList()"
   ]
  },
  {
   "cell_type": "code",
   "execution_count": 12,
   "metadata": {},
   "outputs": [
    {
     "data": {
      "text/plain": [
       "array([[1, 'DNS', 1, 6, None, None,\n",
       "        '=_xlfn.CONCAT(VLOOKUP(Assignment_List!C2,Slot_Legend!$A$2:$C$25,2,FALSE),\" / \", VLOOKUP(Assignment_List!C2,Slot_Legend!$A$2:$C$25,3,FALSE))',\n",
       "        '=_xlfn.CONCAT(VLOOKUP(Assignment_List!D2,Slot_Legend!$A$2:$C$25,2,FALSE),\" / \", VLOOKUP(Assignment_List!D2,Slot_Legend!$A$2:$C$25,3,FALSE))',\n",
       "        'No Friday wknd staffing'],\n",
       "       [1, 'DNS', 19, 24, None, None,\n",
       "        '=_xlfn.CONCAT(VLOOKUP(Assignment_List!C3,Slot_Legend!$A$2:$C$25,2,FALSE),\" / \", VLOOKUP(Assignment_List!C3,Slot_Legend!$A$2:$C$25,3,FALSE))',\n",
       "        '=_xlfn.CONCAT(VLOOKUP(Assignment_List!D3,Slot_Legend!$A$2:$C$25,2,FALSE),\" / \", VLOOKUP(Assignment_List!D3,Slot_Legend!$A$2:$C$25,3,FALSE))',\n",
       "        'No Monday wknd staffing'],\n",
       "       [1, 'WWF', 7, 9, 7402632, 'Depal',\n",
       "        '=_xlfn.CONCAT(VLOOKUP(Assignment_List!C4,Slot_Legend!$A$2:$C$25,2,FALSE),\" / \", VLOOKUP(Assignment_List!C4,Slot_Legend!$A$2:$C$25,3,FALSE))',\n",
       "        '=_xlfn.CONCAT(VLOOKUP(Assignment_List!D4,Slot_Legend!$A$2:$C$25,2,FALSE),\" / \", VLOOKUP(Assignment_List!D4,Slot_Legend!$A$2:$C$25,3,FALSE))',\n",
       "        'Lindsay Sat'],\n",
       "       [1, 'WWF', 7, 9, 7400336, 'Extra Saw',\n",
       "        '=_xlfn.CONCAT(VLOOKUP(Assignment_List!C5,Slot_Legend!$A$2:$C$25,2,FALSE),\" / \", VLOOKUP(Assignment_List!C5,Slot_Legend!$A$2:$C$25,3,FALSE))',\n",
       "        '=_xlfn.CONCAT(VLOOKUP(Assignment_List!D5,Slot_Legend!$A$2:$C$25,2,FALSE),\" / \", VLOOKUP(Assignment_List!D5,Slot_Legend!$A$2:$C$25,3,FALSE))',\n",
       "        'M Elabed Sat'],\n",
       "       [1, 'WWF', 7, 9, 7104444, '#5 saw',\n",
       "        '=_xlfn.CONCAT(VLOOKUP(Assignment_List!C6,Slot_Legend!$A$2:$C$25,2,FALSE),\" / \", VLOOKUP(Assignment_List!C6,Slot_Legend!$A$2:$C$25,3,FALSE))',\n",
       "        '=_xlfn.CONCAT(VLOOKUP(Assignment_List!D6,Slot_Legend!$A$2:$C$25,2,FALSE),\" / \", VLOOKUP(Assignment_List!D6,Slot_Legend!$A$2:$C$25,3,FALSE))',\n",
       "        'M Henry Sat'],\n",
       "       [1, 'WWF', 7, 9, 7401166, '#6 saw',\n",
       "        '=_xlfn.CONCAT(VLOOKUP(Assignment_List!C7,Slot_Legend!$A$2:$C$25,2,FALSE),\" / \", VLOOKUP(Assignment_List!C7,Slot_Legend!$A$2:$C$25,3,FALSE))',\n",
       "        '=_xlfn.CONCAT(VLOOKUP(Assignment_List!D7,Slot_Legend!$A$2:$C$25,2,FALSE),\" / \", VLOOKUP(Assignment_List!D7,Slot_Legend!$A$2:$C$25,3,FALSE))',\n",
       "        'J Paterson Sat'],\n",
       "       [1, 'WWF', 7, 9, 7096593, 'Soaker Infeed',\n",
       "        '=_xlfn.CONCAT(VLOOKUP(Assignment_List!C8,Slot_Legend!$A$2:$C$25,2,FALSE),\" / \", VLOOKUP(Assignment_List!C8,Slot_Legend!$A$2:$C$25,3,FALSE))',\n",
       "        '=_xlfn.CONCAT(VLOOKUP(Assignment_List!D8,Slot_Legend!$A$2:$C$25,2,FALSE),\" / \", VLOOKUP(Assignment_List!D8,Slot_Legend!$A$2:$C$25,3,FALSE))',\n",
       "        'T Vouvalidis Sat'],\n",
       "       [1, 'WWF', 7, 9, 7095864, 'Soaker Op',\n",
       "        '=_xlfn.CONCAT(VLOOKUP(Assignment_List!C9,Slot_Legend!$A$2:$C$25,2,FALSE),\" / \", VLOOKUP(Assignment_List!C9,Slot_Legend!$A$2:$C$25,3,FALSE))',\n",
       "        '=_xlfn.CONCAT(VLOOKUP(Assignment_List!D9,Slot_Legend!$A$2:$C$25,2,FALSE),\" / \", VLOOKUP(Assignment_List!D9,Slot_Legend!$A$2:$C$25,3,FALSE))',\n",
       "        'J Sit Sat'],\n",
       "       [1, 'WWF', 7, 9, 7097996, 'Filler',\n",
       "        '=_xlfn.CONCAT(VLOOKUP(Assignment_List!C10,Slot_Legend!$A$2:$C$25,2,FALSE),\" / \", VLOOKUP(Assignment_List!C10,Slot_Legend!$A$2:$C$25,3,FALSE))',\n",
       "        '=_xlfn.CONCAT(VLOOKUP(Assignment_List!D10,Slot_Legend!$A$2:$C$25,2,FALSE),\" / \", VLOOKUP(Assignment_List!D10,Slot_Legend!$A$2:$C$25,3,FALSE))',\n",
       "        'C McIntyre Sat'],\n",
       "       [1, 'WWF', 7, 9, 7093500, 'Filler Relief',\n",
       "        '=_xlfn.CONCAT(VLOOKUP(Assignment_List!C11,Slot_Legend!$A$2:$C$25,2,FALSE),\" / \", VLOOKUP(Assignment_List!C11,Slot_Legend!$A$2:$C$25,3,FALSE))',\n",
       "        '=_xlfn.CONCAT(VLOOKUP(Assignment_List!D11,Slot_Legend!$A$2:$C$25,2,FALSE),\" / \", VLOOKUP(Assignment_List!D11,Slot_Legend!$A$2:$C$25,3,FALSE))',\n",
       "        'C McGill Sat'],\n",
       "       [1, 'WWF', 7, 9, 7400330, 'Utility',\n",
       "        '=_xlfn.CONCAT(VLOOKUP(Assignment_List!C12,Slot_Legend!$A$2:$C$25,2,FALSE),\" / \", VLOOKUP(Assignment_List!C12,Slot_Legend!$A$2:$C$25,3,FALSE))',\n",
       "        '=_xlfn.CONCAT(VLOOKUP(Assignment_List!D12,Slot_Legend!$A$2:$C$25,2,FALSE),\" / \", VLOOKUP(Assignment_List!D12,Slot_Legend!$A$2:$C$25,3,FALSE))',\n",
       "        'P LaFleur Sat'],\n",
       "       [1, 'WWF', 7, 9, 7096286, 'Candling',\n",
       "        '=_xlfn.CONCAT(VLOOKUP(Assignment_List!C13,Slot_Legend!$A$2:$C$25,2,FALSE),\" / \", VLOOKUP(Assignment_List!C13,Slot_Legend!$A$2:$C$25,3,FALSE))',\n",
       "        '=_xlfn.CONCAT(VLOOKUP(Assignment_List!D13,Slot_Legend!$A$2:$C$25,2,FALSE),\" / \", VLOOKUP(Assignment_List!D13,Slot_Legend!$A$2:$C$25,3,FALSE))',\n",
       "        'D McCart Sat'],\n",
       "       [1, 'WWF', 7, 9, 7401878, 'Packer',\n",
       "        '=_xlfn.CONCAT(VLOOKUP(Assignment_List!C14,Slot_Legend!$A$2:$C$25,2,FALSE),\" / \", VLOOKUP(Assignment_List!C14,Slot_Legend!$A$2:$C$25,3,FALSE))',\n",
       "        '=_xlfn.CONCAT(VLOOKUP(Assignment_List!D14,Slot_Legend!$A$2:$C$25,2,FALSE),\" / \", VLOOKUP(Assignment_List!D14,Slot_Legend!$A$2:$C$25,3,FALSE))',\n",
       "        'C Deyle Sat'],\n",
       "       [1, 'WWF', 7, 9, 7095136, 'Pall Operator',\n",
       "        '=_xlfn.CONCAT(VLOOKUP(Assignment_List!C15,Slot_Legend!$A$2:$C$25,2,FALSE),\" / \", VLOOKUP(Assignment_List!C15,Slot_Legend!$A$2:$C$25,3,FALSE))',\n",
       "        '=_xlfn.CONCAT(VLOOKUP(Assignment_List!D15,Slot_Legend!$A$2:$C$25,2,FALSE),\" / \", VLOOKUP(Assignment_List!D15,Slot_Legend!$A$2:$C$25,3,FALSE))',\n",
       "        'R Smith Sat'],\n",
       "       [1, 'WWF', 7, 9, 7094183, 'LC1 Can Depal',\n",
       "        '=_xlfn.CONCAT(VLOOKUP(Assignment_List!C16,Slot_Legend!$A$2:$C$25,2,FALSE),\" / \", VLOOKUP(Assignment_List!C16,Slot_Legend!$A$2:$C$25,3,FALSE))',\n",
       "        '=_xlfn.CONCAT(VLOOKUP(Assignment_List!D16,Slot_Legend!$A$2:$C$25,2,FALSE),\" / \", VLOOKUP(Assignment_List!D16,Slot_Legend!$A$2:$C$25,3,FALSE))',\n",
       "        'S Simon Sat'],\n",
       "       [1, 'WWF', 7, 9, 7077415, 'LC1 Can Filler 1',\n",
       "        '=_xlfn.CONCAT(VLOOKUP(Assignment_List!C17,Slot_Legend!$A$2:$C$25,2,FALSE),\" / \", VLOOKUP(Assignment_List!C17,Slot_Legend!$A$2:$C$25,3,FALSE))',\n",
       "        '=_xlfn.CONCAT(VLOOKUP(Assignment_List!D17,Slot_Legend!$A$2:$C$25,2,FALSE),\" / \", VLOOKUP(Assignment_List!D17,Slot_Legend!$A$2:$C$25,3,FALSE))',\n",
       "        'K Hlodan Sat'],\n",
       "       [1, 'WWF', 7, 9, 7090966, 'LC1 Can Filler 2',\n",
       "        '=_xlfn.CONCAT(VLOOKUP(Assignment_List!C18,Slot_Legend!$A$2:$C$25,2,FALSE),\" / \", VLOOKUP(Assignment_List!C18,Slot_Legend!$A$2:$C$25,3,FALSE))',\n",
       "        '=_xlfn.CONCAT(VLOOKUP(Assignment_List!D18,Slot_Legend!$A$2:$C$25,2,FALSE),\" / \", VLOOKUP(Assignment_List!D18,Slot_Legend!$A$2:$C$25,3,FALSE))',\n",
       "        'D Piskun Sat'],\n",
       "       [1, 'WWF', 7, 9, 7403058, 'LC1 Can Packer 1',\n",
       "        '=_xlfn.CONCAT(VLOOKUP(Assignment_List!C19,Slot_Legend!$A$2:$C$25,2,FALSE),\" / \", VLOOKUP(Assignment_List!C19,Slot_Legend!$A$2:$C$25,3,FALSE))',\n",
       "        '=_xlfn.CONCAT(VLOOKUP(Assignment_List!D19,Slot_Legend!$A$2:$C$25,2,FALSE),\" / \", VLOOKUP(Assignment_List!D19,Slot_Legend!$A$2:$C$25,3,FALSE))',\n",
       "        'S Mackie Sat'],\n",
       "       [1, 'WWF', 7, 9, 7077878, 'LC1 Can Utility',\n",
       "        '=_xlfn.CONCAT(VLOOKUP(Assignment_List!C20,Slot_Legend!$A$2:$C$25,2,FALSE),\" / \", VLOOKUP(Assignment_List!C20,Slot_Legend!$A$2:$C$25,3,FALSE))',\n",
       "        '=_xlfn.CONCAT(VLOOKUP(Assignment_List!D20,Slot_Legend!$A$2:$C$25,2,FALSE),\" / \", VLOOKUP(Assignment_List!D20,Slot_Legend!$A$2:$C$25,3,FALSE))',\n",
       "        'B Humphrey Sat'],\n",
       "       [1, 'WWF', 7, 9, 7099948, 'LC2 Filler 1',\n",
       "        '=_xlfn.CONCAT(VLOOKUP(Assignment_List!C21,Slot_Legend!$A$2:$C$25,2,FALSE),\" / \", VLOOKUP(Assignment_List!C21,Slot_Legend!$A$2:$C$25,3,FALSE))',\n",
       "        '=_xlfn.CONCAT(VLOOKUP(Assignment_List!D21,Slot_Legend!$A$2:$C$25,2,FALSE),\" / \", VLOOKUP(Assignment_List!D21,Slot_Legend!$A$2:$C$25,3,FALSE))',\n",
       "        'D Morais Sat'],\n",
       "       [1, 'WWF', 7, 9, 7403656, 'LC2 Packer 1',\n",
       "        '=_xlfn.CONCAT(VLOOKUP(Assignment_List!C22,Slot_Legend!$A$2:$C$25,2,FALSE),\" / \", VLOOKUP(Assignment_List!C22,Slot_Legend!$A$2:$C$25,3,FALSE))',\n",
       "        '=_xlfn.CONCAT(VLOOKUP(Assignment_List!D22,Slot_Legend!$A$2:$C$25,2,FALSE),\" / \", VLOOKUP(Assignment_List!D22,Slot_Legend!$A$2:$C$25,3,FALSE))',\n",
       "        'A Mann Sat'],\n",
       "       [1, 'WWF', 7, 9, 7104560, 'LC2 Depal',\n",
       "        '=_xlfn.CONCAT(VLOOKUP(Assignment_List!C23,Slot_Legend!$A$2:$C$25,2,FALSE),\" / \", VLOOKUP(Assignment_List!C23,Slot_Legend!$A$2:$C$25,3,FALSE))',\n",
       "        '=_xlfn.CONCAT(VLOOKUP(Assignment_List!D23,Slot_Legend!$A$2:$C$25,2,FALSE),\" / \", VLOOKUP(Assignment_List!D23,Slot_Legend!$A$2:$C$25,3,FALSE))',\n",
       "        'A GoldBurn Sat'],\n",
       "       [1, 'WWF', 7, 9, 7403267, 'LC2 Packer 2',\n",
       "        '=_xlfn.CONCAT(VLOOKUP(Assignment_List!C24,Slot_Legend!$A$2:$C$25,2,FALSE),\" / \", VLOOKUP(Assignment_List!C24,Slot_Legend!$A$2:$C$25,3,FALSE))',\n",
       "        '=_xlfn.CONCAT(VLOOKUP(Assignment_List!D24,Slot_Legend!$A$2:$C$25,2,FALSE),\" / \", VLOOKUP(Assignment_List!D24,Slot_Legend!$A$2:$C$25,3,FALSE))',\n",
       "        'A Forrest Sat']], dtype=object)"
      ]
     },
     "execution_count": 12,
     "metadata": {},
     "output_type": "execute_result"
    }
   ],
   "source": [
    "mySched.preAssn"
   ]
  },
  {
   "cell_type": "code",
   "execution_count": null,
   "metadata": {},
   "outputs": [],
   "source": [
    "# NOTE TO SELF: I think I'm done with data preformatting.\n",
    "# Have ee objects with training, seniority etc\n",
    "# Have polling info available via keyed dictionary\n",
    "# Have slot objects made with eligVol as well\n",
    "\n",
    "# Next step: build out the schedule class with methods to populate pre assigned fields.\n",
    "# Then the algorithm to assign slots."
   ]
  }
 ],
 "metadata": {
  "kernelspec": {
   "display_name": "Python 3.9.12 ('base')",
   "language": "python",
   "name": "python3"
  },
  "language_info": {
   "codemirror_mode": {
    "name": "ipython",
    "version": 3
   },
   "file_extension": ".py",
   "mimetype": "text/x-python",
   "name": "python",
   "nbconvert_exporter": "python",
   "pygments_lexer": "ipython3",
   "version": "3.9.12"
  },
  "orig_nbformat": 4,
  "vscode": {
   "interpreter": {
    "hash": "ad2bdc8ecc057115af97d19610ffacc2b4e99fae6737bb82f5d7fb13d2f2c186"
   }
  }
 },
 "nbformat": 4,
 "nbformat_minor": 2
}
