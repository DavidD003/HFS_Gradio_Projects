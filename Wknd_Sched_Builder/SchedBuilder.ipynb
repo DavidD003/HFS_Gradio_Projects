{
 "cells": [
  {
   "cell_type": "code",
   "execution_count": 74,
   "metadata": {},
   "outputs": [],
   "source": [
    "import SchedBuilderUtyModule as tls\n",
    "import SchedBuilderClasses as cls\n",
    "import openpyxl as pyxl\n",
    "import pandas as pd\n",
    "import numpy as np\n",
    "from copy import deepcopy"
   ]
  },
  {
   "cell_type": "code",
   "execution_count": 75,
   "metadata": {},
   "outputs": [
    {
     "data": {
      "text/plain": [
       "<module 'SchedBuilderClasses' from 'c:\\\\Cloned_Repositories\\\\HFS_Gradio_Projects\\\\Wknd_Sched_Builder\\\\SchedBuilderClasses.py'>"
      ]
     },
     "execution_count": 75,
     "metadata": {},
     "output_type": "execute_result"
    }
   ],
   "source": [
    "from importlib import reload\n",
    "reload(tls)\n",
    "reload(cls)"
   ]
  },
  {
   "cell_type": "code",
   "execution_count": 35,
   "metadata": {},
   "outputs": [],
   "source": [
    "eeDict, openSlots, AssignmentsTbl,slot_Legend,pollDict,senList=tls.preProcessData('ValuesFTRefusal.xlsm','ValuesTempRefusal.xlsm','AssignmentList.xlsx','Long Weekend Polling.xlsx')"
   ]
  },
  {
   "cell_type": "code",
   "execution_count": 77,
   "metadata": {},
   "outputs": [],
   "source": [
    "mySched=tls.preProcessData('ValuesFTRefusal.xlsm','ValuesTempRefusal.xlsm','AssignmentList.xlsx','Long Weekend Polling.xlsx')"
   ]
  },
  {
   "cell_type": "markdown",
   "metadata": {},
   "source": [
    "### Leaving off Sept 1:\n",
    "Have this 'evalAssnList' method of schedule pulling all dict keys for all slots to be assigned DNS when reading a DNS row\n",
    "in the AssnList. Now to iterate through those keys and actually assign DNS. Then build alternate path in the method that \n",
    "carries out single assignments (WWF or otherwise), and finally (I think?) another one that reads through disallowments\n",
    "(idea; generate a little object to assign to a workers collection, to be iterated through when assigning to see if a worker\n",
    "shouldn't be assigned to a given slot.)"
   ]
  },
  {
   "cell_type": "code",
   "execution_count": 79,
   "metadata": {},
   "outputs": [],
   "source": [
    "ls=mySched.evalAssnList()"
   ]
  },
  {
   "cell_type": "code",
   "execution_count": 83,
   "metadata": {},
   "outputs": [
    {
     "data": {
      "text/plain": [
       "['1_Variopak',\n",
       " '1_Depal',\n",
       " '1_Extra Depal',\n",
       " '1_Extra Saw',\n",
       " '1_#5 Saw',\n",
       " '1_#6 Saw',\n",
       " '1_Soaker Infeed',\n",
       " '1_Soaker Op',\n",
       " '1_Filler',\n",
       " '1_Filler Relief',\n",
       " '1_Bottle Supply Relief',\n",
       " '1_Utility',\n",
       " '1_PFT',\n",
       " '1_Pall Rlf',\n",
       " '1_Labeler',\n",
       " '1_Packer',\n",
       " '1_Candling',\n",
       " '1_Pall Operator',\n",
       " '1_LC1 Can Filler 1',\n",
       " '1_LC1 Can Filler 2',\n",
       " '1_LC1 Can Utility',\n",
       " '1_LC1 Can Packer',\n",
       " '1_LC1 Can Depal',\n",
       " '1_LC2 Depal',\n",
       " '1_LC2 Filler 1',\n",
       " '1_LC2 Filler 2',\n",
       " '1_LC2 Packer 1',\n",
       " '1_LC2 Packer 2',\n",
       " '2_Variopak']"
      ]
     },
     "execution_count": 83,
     "metadata": {},
     "output_type": "execute_result"
    }
   ],
   "source": [
    "ls[:29]"
   ]
  },
  {
   "cell_type": "code",
   "execution_count": 62,
   "metadata": {},
   "outputs": [
    {
     "data": {
      "text/plain": [
       "1"
      ]
     },
     "execution_count": 62,
     "metadata": {},
     "output_type": "execute_result"
    }
   ],
   "source": [
    "mySched.preAssn[0][2]"
   ]
  },
  {
   "cell_type": "code",
   "execution_count": 63,
   "metadata": {},
   "outputs": [
    {
     "data": {
      "text/plain": [
       "['1_Variopak',\n",
       " '1_Depal',\n",
       " '1_Extra Depal',\n",
       " '1_Extra Saw',\n",
       " '1_#5 Saw',\n",
       " '1_#6 Saw',\n",
       " '1_Soaker Infeed',\n",
       " '1_Soaker Op',\n",
       " '1_Filler',\n",
       " '1_Filler Relief',\n",
       " '1_Bottle Supply Relief',\n",
       " '1_Utility',\n",
       " '1_PFT',\n",
       " '1_Pall Rlf',\n",
       " '1_Labeler',\n",
       " '1_Packer',\n",
       " '1_Candling',\n",
       " '1_Pall Operator',\n",
       " '1_LC1 Can Filler 1',\n",
       " '1_LC1 Can Filler 2',\n",
       " '1_LC1 Can Utility',\n",
       " '1_LC1 Can Packer',\n",
       " '1_LC1 Can Depal',\n",
       " '1_LC2 Depal',\n",
       " '1_LC2 Filler 1',\n",
       " '1_LC2 Filler 2',\n",
       " '1_LC2 Packer 1',\n",
       " '1_LC2 Packer 2']"
      ]
     },
     "execution_count": 63,
     "metadata": {},
     "output_type": "execute_result"
    }
   ],
   "source": [
    "myKeys=[k for k in mySched.slots.keys() if k[:len(str(1))+1]==str(1)+'_']\n",
    "myKeys"
   ]
  }
 ],
 "metadata": {
  "kernelspec": {
   "display_name": "Python 3.9.12 ('base')",
   "language": "python",
   "name": "python3"
  },
  "language_info": {
   "codemirror_mode": {
    "name": "ipython",
    "version": 3
   },
   "file_extension": ".py",
   "mimetype": "text/x-python",
   "name": "python",
   "nbconvert_exporter": "python",
   "pygments_lexer": "ipython3",
   "version": "3.9.12"
  },
  "orig_nbformat": 4,
  "vscode": {
   "interpreter": {
    "hash": "ad2bdc8ecc057115af97d19610ffacc2b4e99fae6737bb82f5d7fb13d2f2c186"
   }
  }
 },
 "nbformat": 4,
 "nbformat_minor": 2
}
